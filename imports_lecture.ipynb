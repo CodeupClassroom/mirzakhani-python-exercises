{
 "cells": [
  {
   "cell_type": "markdown",
   "id": "fed6a287",
   "metadata": {},
   "source": [
    "# Import Lecture Notes"
   ]
  },
  {
   "cell_type": "markdown",
   "id": "96a15c5a",
   "metadata": {},
   "source": [
    "## Terminology\n",
    "\n",
    "* **Module**: a file with a .py extension\n",
    "* **Package**: a directory with **modules** in it\n",
    "* **Library**: A collection of related **modules** and **packages**\n",
    "\n",
    "\n",
    "* **Python Package Index**: Also known as PyPI, a repository of community developed Python **packages**\n",
    "* **Conda**: Also known as Anaconda is a **package** manager"
   ]
  },
  {
   "cell_type": "markdown",
   "id": "658eccc2",
   "metadata": {},
   "source": [
    "## Where do we import from\n",
    "\n",
    "* **Python Standard Library**: These come with python so we don't need to install them\n",
    "* **3rd Party Packages**: think things we `conda install` or `pip install`\n",
    "* **Our own code**"
   ]
  },
  {
   "cell_type": "markdown",
   "id": "8569e430",
   "metadata": {},
   "source": [
    "## Installing Packages\n",
    "\n",
    "<div class=\"alert alert-block alert-danger\">\n",
    "    <b>Don't:</b> do this in a notebook, python file, or REPL\n",
    "</div>\n",
    "\n",
    "<div class=\"alert alert-block alert-success\">\n",
    "    <b>Do:</b> this on the command line\n",
    "</div>"
   ]
  },
  {
   "cell_type": "markdown",
   "id": "45b10d51",
   "metadata": {},
   "source": [
    "`pip install somepackage`\n",
    "\n",
    "`conda install somepackage`"
   ]
  },
  {
   "cell_type": "markdown",
   "id": "182288fa",
   "metadata": {},
   "source": [
    "## Importing\n",
    "\n",
    "<div class=\"alert alert-block alert-success\">\n",
    "    <b>Do:</b> this in a notebook, python file, or REPL\n",
    "</div>"
   ]
  },
  {
   "cell_type": "markdown",
   "id": "46a87ad2",
   "metadata": {},
   "source": [
    "We import a module using the `import` reserved word followed by the name of the module\n",
    "\n",
    "```python\n",
    "import some_module\n",
    "```\n",
    "\n",
    "Once we have run the import, we can use the functions that are in somemodule using:\n",
    "\n",
    "```python\n",
    "some_module.some_function()\n",
    "```\n",
    "<div class=\"alert alert-block alert-info\">\n",
    "    <b>Note:</b> The use of the functions from some_module can be used anywhere in the file that they have been import into\n",
    "</div>"
   ]
  },
  {
   "cell_type": "code",
   "execution_count": 1,
   "id": "d9a934a0",
   "metadata": {},
   "outputs": [],
   "source": [
    "import math"
   ]
  },
  {
   "cell_type": "code",
   "execution_count": 2,
   "id": "db6371a8",
   "metadata": {},
   "outputs": [
    {
     "data": {
      "text/plain": [
       "2.0"
      ]
     },
     "execution_count": 2,
     "metadata": {},
     "output_type": "execute_result"
    }
   ],
   "source": [
    "math.sqrt(4)"
   ]
  },
  {
   "cell_type": "markdown",
   "id": "7804d50a",
   "metadata": {},
   "source": [
    "#### Module errors"
   ]
  },
  {
   "cell_type": "code",
   "execution_count": 3,
   "id": "ccb40834",
   "metadata": {
    "scrolled": true
   },
   "outputs": [
    {
     "ename": "ModuleNotFoundError",
     "evalue": "No module named 'some_module'",
     "output_type": "error",
     "traceback": [
      "\u001b[0;31m---------------------------------------------------------------------------\u001b[0m",
      "\u001b[0;31mModuleNotFoundError\u001b[0m                       Traceback (most recent call last)",
      "Input \u001b[0;32mIn [3]\u001b[0m, in \u001b[0;36m<cell line: 1>\u001b[0;34m()\u001b[0m\n\u001b[0;32m----> 1\u001b[0m \u001b[38;5;28;01mimport\u001b[39;00m \u001b[38;5;21;01msome_module\u001b[39;00m\n",
      "\u001b[0;31mModuleNotFoundError\u001b[0m: No module named 'some_module'"
     ]
    }
   ],
   "source": [
    "import some_module"
   ]
  },
  {
   "cell_type": "markdown",
   "id": "165b211b",
   "metadata": {},
   "source": [
    "### Alias the imported module\n",
    "\n",
    "We can alias the name of the import using the `as` reserved word\n",
    "\n",
    "```python\n",
    "import some_module as sm\n",
    "\n",
    "sm.some_function()\n",
    "```"
   ]
  },
  {
   "cell_type": "code",
   "execution_count": 4,
   "id": "5eb7ea3a",
   "metadata": {},
   "outputs": [],
   "source": [
    "import math as m"
   ]
  },
  {
   "cell_type": "code",
   "execution_count": 5,
   "id": "b489b414",
   "metadata": {},
   "outputs": [
    {
     "data": {
      "text/plain": [
       "2.0"
      ]
     },
     "execution_count": 5,
     "metadata": {},
     "output_type": "execute_result"
    }
   ],
   "source": [
    "m.sqrt(4)"
   ]
  },
  {
   "cell_type": "markdown",
   "id": "671c6cca",
   "metadata": {},
   "source": [
    "### Importing just certain functions from a module\n",
    "\n",
    "We can import only specific functions from a module using the `from` reserved word\n",
    "\n",
    "```python\n",
    "from some_module import some_function\n",
    "\n",
    "some_function()\n",
    "```"
   ]
  },
  {
   "cell_type": "code",
   "execution_count": 6,
   "id": "f97b0c53",
   "metadata": {},
   "outputs": [],
   "source": [
    "from math import sqrt"
   ]
  },
  {
   "cell_type": "code",
   "execution_count": 7,
   "id": "1a6f83c6",
   "metadata": {},
   "outputs": [
    {
     "data": {
      "text/plain": [
       "2.0"
      ]
     },
     "execution_count": 7,
     "metadata": {},
     "output_type": "execute_result"
    }
   ],
   "source": [
    "sqrt(4)"
   ]
  },
  {
   "cell_type": "markdown",
   "id": "b4490209",
   "metadata": {},
   "source": [
    "### Importing your own code\n",
    "\n",
    "If I have a file in the same directory as this notebook called `my_functions.py`, I can import it using `import` and using my file as the module name, minus the `.py`\n",
    "\n",
    "```python\n",
    "import my_functions\n",
    "\n",
    "my_functions.somefunction()\n",
    "```"
   ]
  },
  {
   "cell_type": "code",
   "execution_count": 8,
   "id": "ffb98e7a",
   "metadata": {},
   "outputs": [],
   "source": [
    "import my_functions"
   ]
  },
  {
   "cell_type": "code",
   "execution_count": 9,
   "id": "37fd66bd",
   "metadata": {},
   "outputs": [
    {
     "data": {
      "text/plain": [
       "3"
      ]
     },
     "execution_count": 9,
     "metadata": {},
     "output_type": "execute_result"
    }
   ],
   "source": [
    "my_functions.iterate(2)"
   ]
  },
  {
   "cell_type": "code",
   "execution_count": null,
   "id": "74ada65b",
   "metadata": {},
   "outputs": [],
   "source": []
  }
 ],
 "metadata": {
  "kernelspec": {
   "display_name": "Python 3 (ipykernel)",
   "language": "python",
   "name": "python3"
  },
  "language_info": {
   "codemirror_mode": {
    "name": "ipython",
    "version": 3
   },
   "file_extension": ".py",
   "mimetype": "text/x-python",
   "name": "python",
   "nbconvert_exporter": "python",
   "pygments_lexer": "ipython3",
   "version": "3.9.12"
  }
 },
 "nbformat": 4,
 "nbformat_minor": 5
}
