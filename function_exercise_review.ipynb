{
 "cells": [
  {
   "cell_type": "markdown",
   "id": "cf717098",
   "metadata": {},
   "source": [
    "# Function Review"
   ]
  },
  {
   "cell_type": "markdown",
   "id": "6117e4c4",
   "metadata": {},
   "source": [
    "### 1.Define a function named is_two. It should accept one input and return True if the passed input is either the number or the string 2, False otherwise."
   ]
  },
  {
   "cell_type": "code",
   "execution_count": 13,
   "id": "e5c18b91",
   "metadata": {},
   "outputs": [],
   "source": [
    "def is_two(n):\n",
    "    return n == 2 or n == '2'"
   ]
  },
  {
   "cell_type": "code",
   "execution_count": 7,
   "id": "abfccd45",
   "metadata": {},
   "outputs": [
    {
     "data": {
      "text/plain": [
       "True"
      ]
     },
     "execution_count": 7,
     "metadata": {},
     "output_type": "execute_result"
    }
   ],
   "source": [
    "is_two('2')"
   ]
  },
  {
   "cell_type": "code",
   "execution_count": 15,
   "id": "a586f2b2",
   "metadata": {},
   "outputs": [],
   "source": [
    "assert is_two(2) == True\n",
    "assert is_two('2') == True\n",
    "assert is_two('two') == False"
   ]
  },
  {
   "cell_type": "markdown",
   "id": "043e162d",
   "metadata": {},
   "source": [
    "### 2. Define a function named is_vowel. It should return True if the passed string is a vowel, False otherwise."
   ]
  },
  {
   "cell_type": "code",
   "execution_count": 16,
   "id": "96e19b3e",
   "metadata": {},
   "outputs": [
    {
     "data": {
      "text/plain": [
       "['a', 'e', 'i', 'o', 'u']"
      ]
     },
     "execution_count": 16,
     "metadata": {},
     "output_type": "execute_result"
    }
   ],
   "source": [
    "list('aeiou')"
   ]
  },
  {
   "cell_type": "code",
   "execution_count": 18,
   "id": "8d080948",
   "metadata": {},
   "outputs": [
    {
     "data": {
      "text/plain": [
       "False"
      ]
     },
     "execution_count": 18,
     "metadata": {},
     "output_type": "execute_result"
    }
   ],
   "source": [
    "'f'in list('aeiou')"
   ]
  },
  {
   "cell_type": "code",
   "execution_count": 26,
   "id": "561068d4",
   "metadata": {},
   "outputs": [],
   "source": [
    "def is_vowel(somestring):\n",
    "    if type(somestring) == str:\n",
    "        if len(somestring) == 1 and somestring.isalpha():\n",
    "            return somestring.lower() in list('aeiou')\n",
    "        else:\n",
    "            return False\n",
    "    else:\n",
    "        return False"
   ]
  },
  {
   "cell_type": "code",
   "execution_count": 24,
   "id": "05d123bb",
   "metadata": {},
   "outputs": [
    {
     "data": {
      "text/plain": [
       "True"
      ]
     },
     "execution_count": 24,
     "metadata": {},
     "output_type": "execute_result"
    }
   ],
   "source": [
    "is_vowel('a')"
   ]
  },
  {
   "cell_type": "markdown",
   "id": "bf1a7a92",
   "metadata": {},
   "source": [
    "### 3. Define a function named is_consonant. It should return True if the passed string is a consonant, False otherwise. Use your is_vowel function to accomplish this."
   ]
  },
  {
   "cell_type": "code",
   "execution_count": 32,
   "id": "2e22c086",
   "metadata": {},
   "outputs": [],
   "source": [
    "def is_consonant(somestring):\n",
    "    if type(somestring) == str:\n",
    "        if len(somestring) == 1 and somestring.isalpha():\n",
    "            return (not is_vowel(somestring))\n",
    "        else:\n",
    "            return False\n",
    "    else:\n",
    "        return False"
   ]
  },
  {
   "cell_type": "code",
   "execution_count": 35,
   "id": "00161a51",
   "metadata": {},
   "outputs": [
    {
     "data": {
      "text/plain": [
       "True"
      ]
     },
     "execution_count": 35,
     "metadata": {},
     "output_type": "execute_result"
    }
   ],
   "source": [
    "is_consonant('k')"
   ]
  },
  {
   "cell_type": "markdown",
   "id": "b934c758",
   "metadata": {},
   "source": [
    "### 4. Define a function that accepts a string that is a word. The function should capitalize the first letter of the word if the word starts with a consonant."
   ]
  },
  {
   "cell_type": "code",
   "execution_count": 36,
   "id": "dbb6f5db",
   "metadata": {},
   "outputs": [],
   "source": [
    "def capitalize_starting_consonant(somestring):\n",
    "    if type(somestring) == str:\n",
    "        if is_consonant(somestring[0]):\n",
    "            return somestring.capitalize()\n",
    "        else:\n",
    "            return somestring\n",
    "    else:\n",
    "        return somestring"
   ]
  },
  {
   "cell_type": "code",
   "execution_count": 40,
   "id": "42c0fc6c",
   "metadata": {},
   "outputs": [
    {
     "data": {
      "text/plain": [
       "'Bailey'"
      ]
     },
     "execution_count": 40,
     "metadata": {},
     "output_type": "execute_result"
    }
   ],
   "source": [
    "capitalize_starting_consonant('bailey')"
   ]
  },
  {
   "cell_type": "code",
   "execution_count": 41,
   "id": "af9c3c57",
   "metadata": {},
   "outputs": [],
   "source": [
    "my_pet_capitalize = capitalize_starting_consonant('bailey')"
   ]
  },
  {
   "cell_type": "code",
   "execution_count": 42,
   "id": "1a1a8869",
   "metadata": {},
   "outputs": [
    {
     "data": {
      "text/plain": [
       "'Bailey'"
      ]
     },
     "execution_count": 42,
     "metadata": {},
     "output_type": "execute_result"
    }
   ],
   "source": [
    "my_pet_capitalize"
   ]
  },
  {
   "cell_type": "markdown",
   "id": "460c88c4",
   "metadata": {},
   "source": [
    "### 5. Define a function named calculate_tip. It should accept a tip percentage (a number between 0 and 1) and the bill total, and return the amount to tip."
   ]
  },
  {
   "cell_type": "code",
   "execution_count": 43,
   "id": "cacaa0f6",
   "metadata": {},
   "outputs": [],
   "source": [
    "def calculate_tip(bill, tip_percent = 0.2):\n",
    "    return bill * tip_percent"
   ]
  },
  {
   "cell_type": "code",
   "execution_count": 51,
   "id": "e842d993",
   "metadata": {},
   "outputs": [
    {
     "data": {
      "text/plain": [
       "20.0"
      ]
     },
     "execution_count": 51,
     "metadata": {},
     "output_type": "execute_result"
    }
   ],
   "source": [
    "calculate_tip(100, .2)"
   ]
  },
  {
   "cell_type": "markdown",
   "id": "289e310a",
   "metadata": {},
   "source": [
    "### 6. Define a function named apply_discount. It should accept a original price, and a discount percentage, and return the price after the discount is applied."
   ]
  },
  {
   "cell_type": "code",
   "execution_count": 52,
   "id": "248d6454",
   "metadata": {},
   "outputs": [],
   "source": [
    "def apply_discount(orig_price, discount = 0.0):\n",
    "    return orig_price - orig_price*discount"
   ]
  },
  {
   "cell_type": "code",
   "execution_count": 60,
   "id": "faaa17a9",
   "metadata": {},
   "outputs": [
    {
     "data": {
      "text/plain": [
       "96.0"
      ]
     },
     "execution_count": 60,
     "metadata": {},
     "output_type": "execute_result"
    }
   ],
   "source": [
    "apply_discount(120, .2)"
   ]
  },
  {
   "cell_type": "markdown",
   "id": "5ae344cf",
   "metadata": {},
   "source": [
    "### 7. Define a function named handle_commas. It should accept a string that is a number that contains commas in it as input, and return a number as output."
   ]
  },
  {
   "cell_type": "code",
   "execution_count": 61,
   "id": "297fc8bf",
   "metadata": {},
   "outputs": [],
   "source": [
    "def handle_commas(fakenum):\n",
    "    if type(fakenum) == str:\n",
    "        return int(fakenum.replace(',' , ''))\n",
    "    else:\n",
    "        return fakenum"
   ]
  },
  {
   "cell_type": "code",
   "execution_count": 64,
   "id": "04775202",
   "metadata": {},
   "outputs": [
    {
     "data": {
      "text/plain": [
       "1000000"
      ]
     },
     "execution_count": 64,
     "metadata": {},
     "output_type": "execute_result"
    }
   ],
   "source": [
    "handle_commas('1,000,000')"
   ]
  },
  {
   "cell_type": "markdown",
   "id": "3bfac3d7",
   "metadata": {},
   "source": [
    "### 8. Define a function named get_letter_grade. It should accept a number and return the letter grade associated with that number (A-F)."
   ]
  },
  {
   "cell_type": "code",
   "execution_count": 65,
   "id": "d23842be",
   "metadata": {},
   "outputs": [],
   "source": [
    "def get_letter_grade(somegrade):\n",
    "    if somegrade >= 90:\n",
    "        return 'A'\n",
    "    elif somegrade >= 80:\n",
    "        return 'B'\n",
    "    elif somegrade >= 70:\n",
    "        return 'C'\n",
    "    elif somegrade >= 60:\n",
    "        return 'D'\n",
    "    else:\n",
    "        return 'F'"
   ]
  },
  {
   "cell_type": "code",
   "execution_count": 68,
   "id": "b18683cf",
   "metadata": {},
   "outputs": [
    {
     "data": {
      "text/plain": [
       "'C'"
      ]
     },
     "execution_count": 68,
     "metadata": {},
     "output_type": "execute_result"
    }
   ],
   "source": [
    "get_letter_grade(70)"
   ]
  },
  {
   "cell_type": "markdown",
   "id": "fe7652c1",
   "metadata": {},
   "source": [
    "### 9. Define a function named remove_vowels that accepts a string and returns a string with all the vowels removed."
   ]
  },
  {
   "cell_type": "code",
   "execution_count": 69,
   "id": "baa3357d",
   "metadata": {},
   "outputs": [],
   "source": [
    "def remove_vowels(vowel_word):\n",
    "    new_word = ''\n",
    "    for letter in vowel_word:\n",
    "        if not is_vowel(letter):\n",
    "            new_word += letter\n",
    "    return new_word"
   ]
  },
  {
   "cell_type": "code",
   "execution_count": 70,
   "id": "ab6a4496",
   "metadata": {},
   "outputs": [
    {
     "data": {
      "text/plain": [
       "'Sq'"
      ]
     },
     "execution_count": 70,
     "metadata": {},
     "output_type": "execute_result"
    }
   ],
   "source": [
    "remove_vowels('Sequoia')"
   ]
  },
  {
   "cell_type": "code",
   "execution_count": 71,
   "id": "ad4f2a55",
   "metadata": {},
   "outputs": [
    {
     "data": {
      "text/plain": [
       "'ndrw'"
      ]
     },
     "execution_count": 71,
     "metadata": {},
     "output_type": "execute_result"
    }
   ],
   "source": [
    "remove_vowels('Andrew')"
   ]
  },
  {
   "cell_type": "markdown",
   "id": "83f16553",
   "metadata": {},
   "source": [
    "### 10. Define a function named normalize_name. It should accept a string and return a valid python identifier, that is:\n",
    "* anything that is not a valid python identifier should be removed\n",
    "* leading and trailing whitespace should be removed\n",
    "* everything should be lowercase\n",
    "* spaces should be replaced with underscores\n",
    "* for example:\n",
    "* Name will become name\n",
    "* First Name will become first_name\n",
    "* % Completed will become completed"
   ]
  },
  {
   "cell_type": "code",
   "execution_count": 147,
   "id": "201417ba",
   "metadata": {},
   "outputs": [],
   "source": [
    "def normalize_name(somestring):\n",
    "    newstring = ''\n",
    "    #for loop to grab all letter, numbers, and spaces.\n",
    "    for letter in somestring:\n",
    "        if letter.isalnum() or letter == ' ':\n",
    "            newstring += letter\n",
    "    ## for loops to check if leading character is a letter.\n",
    "    for letter in newstring:\n",
    "        if letter.isalpha():\n",
    "            break\n",
    "        else:\n",
    "            newstring = newstring[1:]\n",
    "    return newstring.strip().lower().replace(' ', '_')"
   ]
  },
  {
   "cell_type": "code",
   "execution_count": 148,
   "id": "a86e6786",
   "metadata": {},
   "outputs": [
    {
     "data": {
      "text/plain": [
       "'completed_test_1'"
      ]
     },
     "execution_count": 148,
     "metadata": {},
     "output_type": "execute_result"
    }
   ],
   "source": [
    "normalize_name('   33   4545  $    comple$ted test 1    ')"
   ]
  },
  {
   "cell_type": "markdown",
   "id": "8c63e9ae",
   "metadata": {},
   "source": [
    "### 11 .Write a function named cumulative_sum that accepts a list of numbers and returns a list that is the cumulative sum of the numbers in the list.\n",
    "* cumulative_sum([1, 1, 1]) returns [1, 2, 3]\n",
    "* cumulative_sum([1, 2, 3, 4]) returns [1, 3, 6, 10]"
   ]
  },
  {
   "cell_type": "code",
   "execution_count": 126,
   "id": "0596c5ea",
   "metadata": {},
   "outputs": [],
   "source": [
    "my_list = [3,6,2]"
   ]
  },
  {
   "cell_type": "code",
   "execution_count": 127,
   "id": "260ca108",
   "metadata": {
    "scrolled": true
   },
   "outputs": [
    {
     "data": {
      "text/plain": [
       "[3]"
      ]
     },
     "execution_count": 127,
     "metadata": {},
     "output_type": "execute_result"
    }
   ],
   "source": [
    "my_list[:1]"
   ]
  },
  {
   "cell_type": "code",
   "execution_count": 128,
   "id": "a2ba8eee",
   "metadata": {},
   "outputs": [
    {
     "data": {
      "text/plain": [
       "[3, 6]"
      ]
     },
     "execution_count": 128,
     "metadata": {},
     "output_type": "execute_result"
    }
   ],
   "source": [
    "my_list[:2]"
   ]
  },
  {
   "cell_type": "code",
   "execution_count": 143,
   "id": "fee068b3",
   "metadata": {},
   "outputs": [],
   "source": [
    "def cumulative_sum(oldlist):\n",
    "    newlist = []\n",
    "    i = 1\n",
    "    for num in oldlist:\n",
    "        cumusum = sum(oldlist[:i])\n",
    "        newlist.append(cumusum)\n",
    "        i += 1\n",
    "    return newlist"
   ]
  },
  {
   "cell_type": "code",
   "execution_count": 144,
   "id": "25ec5d12",
   "metadata": {},
   "outputs": [
    {
     "data": {
      "text/plain": [
       "[3, 9, 11]"
      ]
     },
     "execution_count": 144,
     "metadata": {},
     "output_type": "execute_result"
    }
   ],
   "source": [
    "cumulative_sum([3,6,2])"
   ]
  },
  {
   "cell_type": "code",
   "execution_count": null,
   "id": "91fd0d88",
   "metadata": {},
   "outputs": [],
   "source": []
  }
 ],
 "metadata": {
  "kernelspec": {
   "display_name": "Python 3 (ipykernel)",
   "language": "python",
   "name": "python3"
  },
  "language_info": {
   "codemirror_mode": {
    "name": "ipython",
    "version": 3
   },
   "file_extension": ".py",
   "mimetype": "text/x-python",
   "name": "python",
   "nbconvert_exporter": "python",
   "pygments_lexer": "ipython3",
   "version": "3.9.12"
  }
 },
 "nbformat": 4,
 "nbformat_minor": 5
}
