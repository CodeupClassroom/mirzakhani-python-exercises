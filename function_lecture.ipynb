{
 "cells": [
  {
   "cell_type": "markdown",
   "id": "7c9348e5",
   "metadata": {},
   "source": [
    "# Function Lesson\n",
    "\n",
    "## What we already know"
   ]
  },
  {
   "cell_type": "code",
   "execution_count": 1,
   "id": "50464667",
   "metadata": {
    "scrolled": true
   },
   "outputs": [
    {
     "data": {
      "text/plain": [
       "4"
      ]
     },
     "execution_count": 1,
     "metadata": {},
     "output_type": "execute_result"
    }
   ],
   "source": [
    "len([1, 2, 3, 4])"
   ]
  },
  {
   "cell_type": "code",
   "execution_count": 2,
   "id": "568ee1be",
   "metadata": {},
   "outputs": [
    {
     "data": {
      "text/plain": [
       "<function len(obj, /)>"
      ]
     },
     "execution_count": 2,
     "metadata": {},
     "output_type": "execute_result"
    }
   ],
   "source": [
    "len"
   ]
  },
  {
   "cell_type": "code",
   "execution_count": 3,
   "id": "9d470f5d",
   "metadata": {},
   "outputs": [
    {
     "name": "stdout",
     "output_type": "stream",
     "text": [
      "The length of the list is :  4\n"
     ]
    }
   ],
   "source": [
    "print('The length of the list is : ', len([1, 2, 3, 4])) "
   ]
  },
  {
   "cell_type": "markdown",
   "id": "71198c30",
   "metadata": {},
   "source": [
    "## How to make a function\n",
    "\n",
    "```python\n",
    "def name_of_function(parameters):\n",
    "    return result\n",
    "\n",
    "name_of_function(arguments)\n",
    "```"
   ]
  },
  {
   "cell_type": "code",
   "execution_count": 4,
   "id": "46a4434c",
   "metadata": {},
   "outputs": [],
   "source": [
    "def increment(n):\n",
    "    return n + 1"
   ]
  },
  {
   "cell_type": "code",
   "execution_count": 5,
   "id": "374952f7",
   "metadata": {},
   "outputs": [
    {
     "data": {
      "text/plain": [
       "2"
      ]
     },
     "execution_count": 5,
     "metadata": {},
     "output_type": "execute_result"
    }
   ],
   "source": [
    "increment(1)"
   ]
  },
  {
   "cell_type": "code",
   "execution_count": 6,
   "id": "85f72861",
   "metadata": {},
   "outputs": [
    {
     "data": {
      "text/plain": [
       "3"
      ]
     },
     "execution_count": 6,
     "metadata": {},
     "output_type": "execute_result"
    }
   ],
   "source": [
    "increment(increment(1))"
   ]
  },
  {
   "cell_type": "code",
   "execution_count": 7,
   "id": "1d40d12f",
   "metadata": {},
   "outputs": [
    {
     "data": {
      "text/plain": [
       "4"
      ]
     },
     "execution_count": 7,
     "metadata": {},
     "output_type": "execute_result"
    }
   ],
   "source": [
    "increment(increment(increment(1)))"
   ]
  },
  {
   "cell_type": "code",
   "execution_count": 8,
   "id": "03c30b85",
   "metadata": {},
   "outputs": [],
   "source": [
    "def length(thing):\n",
    "    # thing = argument given\n",
    "    count = 0\n",
    "    \n",
    "    if thing == '' or thing == []:\n",
    "        return count\n",
    "    \n",
    "    for item in thing:\n",
    "        count += 1\n",
    "        \n",
    "    return count"
   ]
  },
  {
   "cell_type": "code",
   "execution_count": 9,
   "id": "66150b77",
   "metadata": {},
   "outputs": [],
   "source": [
    "number = 1\n",
    "# number = number + 1\n",
    "number += 1"
   ]
  },
  {
   "cell_type": "code",
   "execution_count": 10,
   "id": "09234096",
   "metadata": {},
   "outputs": [
    {
     "data": {
      "text/plain": [
       "2"
      ]
     },
     "execution_count": 10,
     "metadata": {},
     "output_type": "execute_result"
    }
   ],
   "source": [
    "number"
   ]
  },
  {
   "cell_type": "code",
   "execution_count": 11,
   "id": "7582e459",
   "metadata": {},
   "outputs": [
    {
     "data": {
      "text/plain": [
       "3"
      ]
     },
     "execution_count": 11,
     "metadata": {},
     "output_type": "execute_result"
    }
   ],
   "source": [
    "length([1, 2, 3])"
   ]
  },
  {
   "cell_type": "code",
   "execution_count": 12,
   "id": "54d5a898",
   "metadata": {},
   "outputs": [
    {
     "data": {
      "text/plain": [
       "0"
      ]
     },
     "execution_count": 12,
     "metadata": {},
     "output_type": "execute_result"
    }
   ],
   "source": [
    "length([])"
   ]
  },
  {
   "cell_type": "code",
   "execution_count": 13,
   "id": "c6b71522",
   "metadata": {},
   "outputs": [
    {
     "data": {
      "text/plain": [
       "0"
      ]
     },
     "execution_count": 13,
     "metadata": {},
     "output_type": "execute_result"
    }
   ],
   "source": [
    "length('')"
   ]
  },
  {
   "cell_type": "code",
   "execution_count": 14,
   "id": "9b27ce51",
   "metadata": {},
   "outputs": [
    {
     "data": {
      "text/plain": [
       "5"
      ]
     },
     "execution_count": 14,
     "metadata": {},
     "output_type": "execute_result"
    }
   ],
   "source": [
    "length('Hello')"
   ]
  },
  {
   "cell_type": "markdown",
   "id": "e86b60dd",
   "metadata": {},
   "source": [
    "## Multiple return statements"
   ]
  },
  {
   "cell_type": "code",
   "execution_count": 15,
   "id": "bc44f639",
   "metadata": {},
   "outputs": [],
   "source": [
    "def increment(n):\n",
    "    return n + 1\n",
    "    print('You will never see this')\n",
    "    return n + 1"
   ]
  },
  {
   "cell_type": "code",
   "execution_count": 16,
   "id": "c2aacc39",
   "metadata": {},
   "outputs": [
    {
     "data": {
      "text/plain": [
       "2"
      ]
     },
     "execution_count": 16,
     "metadata": {},
     "output_type": "execute_result"
    }
   ],
   "source": [
    "increment(1)"
   ]
  },
  {
   "cell_type": "markdown",
   "id": "68eb47a4",
   "metadata": {},
   "source": [
    "## What if I don't return anything"
   ]
  },
  {
   "cell_type": "code",
   "execution_count": 17,
   "id": "ba5c76e9",
   "metadata": {},
   "outputs": [],
   "source": [
    "def say_hello():\n",
    "    print('Hello!')"
   ]
  },
  {
   "cell_type": "code",
   "execution_count": 18,
   "id": "5fdb7184",
   "metadata": {},
   "outputs": [
    {
     "name": "stdout",
     "output_type": "stream",
     "text": [
      "Hello!\n"
     ]
    }
   ],
   "source": [
    "say_hello()"
   ]
  },
  {
   "cell_type": "code",
   "execution_count": 19,
   "id": "91f3113b",
   "metadata": {},
   "outputs": [],
   "source": [
    "two = increment(1)"
   ]
  },
  {
   "cell_type": "code",
   "execution_count": 20,
   "id": "31b16109",
   "metadata": {},
   "outputs": [
    {
     "data": {
      "text/plain": [
       "2"
      ]
     },
     "execution_count": 20,
     "metadata": {},
     "output_type": "execute_result"
    }
   ],
   "source": [
    "two"
   ]
  },
  {
   "cell_type": "code",
   "execution_count": 21,
   "id": "20fca903",
   "metadata": {},
   "outputs": [
    {
     "name": "stdout",
     "output_type": "stream",
     "text": [
      "Hello!\n"
     ]
    }
   ],
   "source": [
    "hello = say_hello()"
   ]
  },
  {
   "cell_type": "code",
   "execution_count": 22,
   "id": "e803fa16",
   "metadata": {},
   "outputs": [],
   "source": [
    "hello"
   ]
  },
  {
   "cell_type": "code",
   "execution_count": 23,
   "id": "c8ff0056",
   "metadata": {},
   "outputs": [
    {
     "data": {
      "text/plain": [
       "NoneType"
      ]
     },
     "execution_count": 23,
     "metadata": {},
     "output_type": "execute_result"
    }
   ],
   "source": [
    "type(hello)"
   ]
  },
  {
   "cell_type": "code",
   "execution_count": 24,
   "id": "5bbbbb45",
   "metadata": {},
   "outputs": [],
   "source": [
    "None"
   ]
  },
  {
   "cell_type": "code",
   "execution_count": 25,
   "id": "9cd0b96b",
   "metadata": {},
   "outputs": [
    {
     "name": "stdout",
     "output_type": "stream",
     "text": [
      "Hello\n"
     ]
    }
   ],
   "source": [
    "empty_var = print('Hello')"
   ]
  },
  {
   "cell_type": "code",
   "execution_count": 26,
   "id": "9341adaf",
   "metadata": {},
   "outputs": [],
   "source": [
    "empty_var"
   ]
  },
  {
   "cell_type": "code",
   "execution_count": 27,
   "id": "cdf4af9d",
   "metadata": {},
   "outputs": [
    {
     "data": {
      "text/plain": [
       "NoneType"
      ]
     },
     "execution_count": 27,
     "metadata": {},
     "output_type": "execute_result"
    }
   ],
   "source": [
    "type(empty_var)"
   ]
  },
  {
   "cell_type": "code",
   "execution_count": 28,
   "id": "57507df2",
   "metadata": {},
   "outputs": [
    {
     "ename": "TypeError",
     "evalue": "say_hello() takes 0 positional arguments but 1 was given",
     "output_type": "error",
     "traceback": [
      "\u001b[0;31m---------------------------------------------------------------------------\u001b[0m",
      "\u001b[0;31mTypeError\u001b[0m                                 Traceback (most recent call last)",
      "Input \u001b[0;32mIn [28]\u001b[0m, in \u001b[0;36m<cell line: 1>\u001b[0;34m()\u001b[0m\n\u001b[0;32m----> 1\u001b[0m \u001b[43msay_hello\u001b[49m\u001b[43m(\u001b[49m\u001b[38;5;124;43m'\u001b[39;49m\u001b[38;5;124;43mRyan\u001b[39;49m\u001b[38;5;124;43m'\u001b[39;49m\u001b[43m)\u001b[49m\n",
      "\u001b[0;31mTypeError\u001b[0m: say_hello() takes 0 positional arguments but 1 was given"
     ]
    }
   ],
   "source": [
    "say_hello('Ryan')"
   ]
  },
  {
   "cell_type": "code",
   "execution_count": 29,
   "id": "3efe241f",
   "metadata": {},
   "outputs": [
    {
     "ename": "TypeError",
     "evalue": "length() takes 1 positional argument but 2 were given",
     "output_type": "error",
     "traceback": [
      "\u001b[0;31m---------------------------------------------------------------------------\u001b[0m",
      "\u001b[0;31mTypeError\u001b[0m                                 Traceback (most recent call last)",
      "Input \u001b[0;32mIn [29]\u001b[0m, in \u001b[0;36m<cell line: 1>\u001b[0;34m()\u001b[0m\n\u001b[0;32m----> 1\u001b[0m \u001b[43mlength\u001b[49m\u001b[43m(\u001b[49m\u001b[38;5;124;43m'\u001b[39;49m\u001b[38;5;124;43mHello\u001b[39;49m\u001b[38;5;124;43m'\u001b[39;49m\u001b[43m,\u001b[49m\u001b[43m \u001b[49m\u001b[38;5;124;43m'\u001b[39;49m\u001b[38;5;124;43mGoodbye\u001b[39;49m\u001b[38;5;124;43m'\u001b[39;49m\u001b[43m)\u001b[49m\n",
      "\u001b[0;31mTypeError\u001b[0m: length() takes 1 positional argument but 2 were given"
     ]
    }
   ],
   "source": [
    "length('Hello', 'Goodbye')"
   ]
  },
  {
   "cell_type": "code",
   "execution_count": 30,
   "id": "8bcee25f",
   "metadata": {},
   "outputs": [
    {
     "data": {
      "text/plain": [
       "range(1, 10)"
      ]
     },
     "execution_count": 30,
     "metadata": {},
     "output_type": "execute_result"
    }
   ],
   "source": [
    "range(1, 10)"
   ]
  },
  {
   "cell_type": "code",
   "execution_count": 31,
   "id": "8d2b78ad",
   "metadata": {},
   "outputs": [
    {
     "ename": "TypeError",
     "evalue": "increment() missing 1 required positional argument: 'n'",
     "output_type": "error",
     "traceback": [
      "\u001b[0;31m---------------------------------------------------------------------------\u001b[0m",
      "\u001b[0;31mTypeError\u001b[0m                                 Traceback (most recent call last)",
      "Input \u001b[0;32mIn [31]\u001b[0m, in \u001b[0;36m<cell line: 1>\u001b[0;34m()\u001b[0m\n\u001b[0;32m----> 1\u001b[0m \u001b[43mincrement\u001b[49m\u001b[43m(\u001b[49m\u001b[43m)\u001b[49m\n",
      "\u001b[0;31mTypeError\u001b[0m: increment() missing 1 required positional argument: 'n'"
     ]
    }
   ],
   "source": [
    "increment()"
   ]
  },
  {
   "cell_type": "markdown",
   "id": "57e8e155",
   "metadata": {},
   "source": [
    "## Default argrument"
   ]
  },
  {
   "cell_type": "code",
   "execution_count": 32,
   "id": "5abc174f",
   "metadata": {},
   "outputs": [],
   "source": [
    "def say_hello(greeting='Hello', name='User!'):\n",
    "    '''\n",
    "    Takes two arguments:\n",
    "    greeting(str): The string you would like\n",
    "    name(str): The name that you want included in the greeting\n",
    "    \n",
    "    Prints the greeting to the console\n",
    "    \n",
    "    Returns:\n",
    "    Nothing\n",
    "    '''\n",
    "    print(greeting, name)"
   ]
  },
  {
   "cell_type": "code",
   "execution_count": 33,
   "id": "f38ab234",
   "metadata": {},
   "outputs": [
    {
     "name": "stdout",
     "output_type": "stream",
     "text": [
      "Hello User!\n"
     ]
    }
   ],
   "source": [
    "say_hello()"
   ]
  },
  {
   "cell_type": "code",
   "execution_count": 34,
   "id": "4747f45c",
   "metadata": {},
   "outputs": [
    {
     "name": "stdout",
     "output_type": "stream",
     "text": [
      "Salutation Ryan!\n"
     ]
    }
   ],
   "source": [
    "say_hello('Salutation', 'Ryan!')"
   ]
  },
  {
   "cell_type": "code",
   "execution_count": 35,
   "id": "fd35f538",
   "metadata": {},
   "outputs": [
    {
     "name": "stdout",
     "output_type": "stream",
     "text": [
      "Salutations User!\n"
     ]
    }
   ],
   "source": [
    "say_hello('Salutations')"
   ]
  },
  {
   "cell_type": "markdown",
   "id": "787e17a3",
   "metadata": {},
   "source": [
    "## Keyword Arguments"
   ]
  },
  {
   "cell_type": "code",
   "execution_count": 36,
   "id": "f28e04ed",
   "metadata": {},
   "outputs": [
    {
     "name": "stdout",
     "output_type": "stream",
     "text": [
      "Ryan User!\n"
     ]
    }
   ],
   "source": [
    "say_hello('Ryan')"
   ]
  },
  {
   "cell_type": "code",
   "execution_count": 37,
   "id": "00b9c11d",
   "metadata": {},
   "outputs": [
    {
     "name": "stdout",
     "output_type": "stream",
     "text": [
      "Hello Ryan\n"
     ]
    }
   ],
   "source": [
    "say_hello(name='Ryan')"
   ]
  },
  {
   "cell_type": "code",
   "execution_count": 38,
   "id": "4790fd36",
   "metadata": {},
   "outputs": [
    {
     "ename": "SyntaxError",
     "evalue": "positional argument follows keyword argument (4293347968.py, line 1)",
     "output_type": "error",
     "traceback": [
      "\u001b[0;36m  Input \u001b[0;32mIn [38]\u001b[0;36m\u001b[0m\n\u001b[0;31m    say_hello(greeting='Salutations', 'Ryan')\u001b[0m\n\u001b[0m                                            ^\u001b[0m\n\u001b[0;31mSyntaxError\u001b[0m\u001b[0;31m:\u001b[0m positional argument follows keyword argument\n"
     ]
    }
   ],
   "source": [
    "say_hello(greeting='Salutations', 'Ryan')"
   ]
  },
  {
   "cell_type": "code",
   "execution_count": 39,
   "id": "95d690a9",
   "metadata": {},
   "outputs": [],
   "source": [
    "def print_multiple(thing1='Empty', \n",
    "                   thing2='Empty', \n",
    "                   thing3='Empty', \n",
    "                   thing4='Empty', \n",
    "                   thing5='Empty'):\n",
    "    list_of_things = [thing1, thing2, thing3, thing4, thing5]\n",
    "    \n",
    "    for thing in list_of_things:\n",
    "        print(thing)"
   ]
  },
  {
   "cell_type": "code",
   "execution_count": 40,
   "id": "266bade9",
   "metadata": {},
   "outputs": [
    {
     "name": "stdout",
     "output_type": "stream",
     "text": [
      "Hello\n",
      "Mirzakhani\n",
      "Empty\n",
      "I am thing4\n",
      "Wow\n"
     ]
    }
   ],
   "source": [
    "print_multiple('Hello', 'Mirzakhani', thing4='I am thing4', thing5='Wow')"
   ]
  },
  {
   "cell_type": "markdown",
   "id": "7ed6d01c",
   "metadata": {},
   "source": [
    "## *args"
   ]
  },
  {
   "cell_type": "code",
   "execution_count": 41,
   "id": "ff22d927",
   "metadata": {},
   "outputs": [
    {
     "name": "stdout",
     "output_type": "stream",
     "text": [
      "Greetings Ryan\n"
     ]
    }
   ],
   "source": [
    "say_hello('Greetings', 'Ryan')"
   ]
  },
  {
   "cell_type": "code",
   "execution_count": 42,
   "id": "d498acc4",
   "metadata": {},
   "outputs": [
    {
     "name": "stdout",
     "output_type": "stream",
     "text": [
      "Greetings Ryan\n"
     ]
    }
   ],
   "source": [
    "list_of_arguments = ['Greetings', 'Ryan']\n",
    "\n",
    "say_hello(*list_of_arguments)"
   ]
  },
  {
   "cell_type": "markdown",
   "id": "c4eb24d4",
   "metadata": {},
   "source": [
    "## **kwargs"
   ]
  },
  {
   "cell_type": "code",
   "execution_count": 43,
   "id": "3d4e9e03",
   "metadata": {},
   "outputs": [
    {
     "name": "stdout",
     "output_type": "stream",
     "text": [
      "Greetings Ryan\n"
     ]
    }
   ],
   "source": [
    "dict_of_arguments = {\n",
    "    'greeting': 'Greetings',\n",
    "    'name': 'Ryan'\n",
    "}\n",
    "\n",
    "say_hello(**dict_of_arguments)"
   ]
  },
  {
   "cell_type": "markdown",
   "id": "aff7f6c3",
   "metadata": {},
   "source": [
    "### How do we check the function?"
   ]
  },
  {
   "cell_type": "code",
   "execution_count": 44,
   "id": "e845bf78",
   "metadata": {},
   "outputs": [],
   "source": [
    "say_hello?"
   ]
  },
  {
   "cell_type": "markdown",
   "id": "0c23540d",
   "metadata": {},
   "source": [
    "## Scope"
   ]
  },
  {
   "cell_type": "code",
   "execution_count": 45,
   "id": "561e6a62",
   "metadata": {},
   "outputs": [
    {
     "name": "stdout",
     "output_type": "stream",
     "text": [
      "Inside the function: 1\n",
      "Outside the function: 1\n"
     ]
    }
   ],
   "source": [
    "number = 1\n",
    "\n",
    "def print_number():\n",
    "    print('Inside the function:', number)\n",
    "    \n",
    "print_number()\n",
    "print('Outside the function:', number)"
   ]
  },
  {
   "cell_type": "code",
   "execution_count": 46,
   "id": "0b807002",
   "metadata": {},
   "outputs": [
    {
     "name": "stdout",
     "output_type": "stream",
     "text": [
      "Inside the function: 1\n",
      "Outside the function: 1\n"
     ]
    }
   ],
   "source": [
    "def print_number():\n",
    "    print('Inside the function:', other_number)\n",
    "    \n",
    "other_number = 1\n",
    "print_number()\n",
    "print('Outside the function:', other_number)"
   ]
  },
  {
   "cell_type": "code",
   "execution_count": 47,
   "id": "f724454b",
   "metadata": {},
   "outputs": [
    {
     "ename": "NameError",
     "evalue": "name 'some_other_number' is not defined",
     "output_type": "error",
     "traceback": [
      "\u001b[0;31m---------------------------------------------------------------------------\u001b[0m",
      "\u001b[0;31mNameError\u001b[0m                                 Traceback (most recent call last)",
      "Input \u001b[0;32mIn [47]\u001b[0m, in \u001b[0;36m<cell line: 4>\u001b[0;34m()\u001b[0m\n\u001b[1;32m      1\u001b[0m \u001b[38;5;28;01mdef\u001b[39;00m \u001b[38;5;21mprint_number\u001b[39m():\n\u001b[1;32m      2\u001b[0m     \u001b[38;5;28mprint\u001b[39m(\u001b[38;5;124m'\u001b[39m\u001b[38;5;124mInside the function:\u001b[39m\u001b[38;5;124m'\u001b[39m, some_other_number)\n\u001b[0;32m----> 4\u001b[0m \u001b[43mprint_number\u001b[49m\u001b[43m(\u001b[49m\u001b[43m)\u001b[49m\n\u001b[1;32m      5\u001b[0m some_other_number \u001b[38;5;241m=\u001b[39m \u001b[38;5;241m1\u001b[39m\n\u001b[1;32m      6\u001b[0m \u001b[38;5;28mprint\u001b[39m(\u001b[38;5;124m'\u001b[39m\u001b[38;5;124mOutside the function:\u001b[39m\u001b[38;5;124m'\u001b[39m, some_other_number)\n",
      "Input \u001b[0;32mIn [47]\u001b[0m, in \u001b[0;36mprint_number\u001b[0;34m()\u001b[0m\n\u001b[1;32m      1\u001b[0m \u001b[38;5;28;01mdef\u001b[39;00m \u001b[38;5;21mprint_number\u001b[39m():\n\u001b[0;32m----> 2\u001b[0m     \u001b[38;5;28mprint\u001b[39m(\u001b[38;5;124m'\u001b[39m\u001b[38;5;124mInside the function:\u001b[39m\u001b[38;5;124m'\u001b[39m, \u001b[43msome_other_number\u001b[49m)\n",
      "\u001b[0;31mNameError\u001b[0m: name 'some_other_number' is not defined"
     ]
    }
   ],
   "source": [
    "def print_number():\n",
    "    print('Inside the function:', some_other_number)\n",
    "    \n",
    "print_number()\n",
    "some_other_number = 1\n",
    "print('Outside the function:', some_other_number)"
   ]
  },
  {
   "cell_type": "code",
   "execution_count": 48,
   "id": "492df47e",
   "metadata": {},
   "outputs": [
    {
     "name": "stdout",
     "output_type": "stream",
     "text": [
      "Outside the function: 123\n",
      "Inside the function: 7\n",
      "After the function ran: 123\n"
     ]
    }
   ],
   "source": [
    "n = 123\n",
    "\n",
    "def a_function():\n",
    "    n = 10\n",
    "    n = n - 3\n",
    "    print('Inside the function:', n)\n",
    "    \n",
    "print('Outside the function:', n)\n",
    "a_function()\n",
    "print('After the function ran:', n)"
   ]
  },
  {
   "cell_type": "markdown",
   "id": "117c215b",
   "metadata": {},
   "source": [
    "## Lambda Functions"
   ]
  },
  {
   "cell_type": "code",
   "execution_count": 49,
   "id": "b7a403fb",
   "metadata": {},
   "outputs": [
    {
     "data": {
      "text/plain": [
       "10"
      ]
     },
     "execution_count": 49,
     "metadata": {},
     "output_type": "execute_result"
    }
   ],
   "source": [
    "add_one = lambda n: n + 1\n",
    "add_one(9)"
   ]
  },
  {
   "cell_type": "code",
   "execution_count": 50,
   "id": "d2742d28",
   "metadata": {},
   "outputs": [],
   "source": [
    "square = lambda n: n**2"
   ]
  },
  {
   "cell_type": "code",
   "execution_count": 51,
   "id": "6c1a6baf",
   "metadata": {},
   "outputs": [
    {
     "data": {
      "text/plain": [
       "4"
      ]
     },
     "execution_count": 51,
     "metadata": {},
     "output_type": "execute_result"
    }
   ],
   "source": [
    "square(2)"
   ]
  },
  {
   "cell_type": "code",
   "execution_count": 52,
   "id": "0e30517b",
   "metadata": {},
   "outputs": [
    {
     "data": {
      "text/plain": [
       "[2, 3, 4]"
      ]
     },
     "execution_count": 52,
     "metadata": {},
     "output_type": "execute_result"
    }
   ],
   "source": [
    "list(map(len, [[1,2], [3, 4, 5], [6, 7, 8, 9]]))"
   ]
  },
  {
   "cell_type": "code",
   "execution_count": 53,
   "id": "bf1113ec",
   "metadata": {},
   "outputs": [
    {
     "data": {
      "text/plain": [
       "[1, 4, 9, 16, 25, 36, 49, 64, 81, 100]"
      ]
     },
     "execution_count": 53,
     "metadata": {},
     "output_type": "execute_result"
    }
   ],
   "source": [
    "list_of_numbers = list(range(1, 11))\n",
    "\n",
    "list(map(lambda n: n** 2, list_of_numbers))"
   ]
  },
  {
   "cell_type": "code",
   "execution_count": 54,
   "id": "eaa192d3",
   "metadata": {},
   "outputs": [
    {
     "data": {
      "text/plain": [
       "10"
      ]
     },
     "execution_count": 54,
     "metadata": {},
     "output_type": "execute_result"
    }
   ],
   "source": [
    "add_one(5) + square(2)"
   ]
  }
 ],
 "metadata": {
  "kernelspec": {
   "display_name": "Python 3 (ipykernel)",
   "language": "python",
   "name": "python3"
  },
  "language_info": {
   "codemirror_mode": {
    "name": "ipython",
    "version": 3
   },
   "file_extension": ".py",
   "mimetype": "text/x-python",
   "name": "python",
   "nbconvert_exporter": "python",
   "pygments_lexer": "ipython3",
   "version": "3.9.12"
  }
 },
 "nbformat": 4,
 "nbformat_minor": 5
}
