{
 "cells": [
  {
   "cell_type": "markdown",
   "id": "b2f500b2",
   "metadata": {},
   "source": [
    "# Function Lesson\n",
    "\n",
    "## What we already know"
   ]
  },
  {
   "cell_type": "code",
   "execution_count": 1,
   "id": "a0470d21",
   "metadata": {
    "scrolled": true
   },
   "outputs": [
    {
     "data": {
      "text/plain": [
       "4"
      ]
     },
     "execution_count": 1,
     "metadata": {},
     "output_type": "execute_result"
    }
   ],
   "source": [
    "len([1, 2, 3, 4])"
   ]
  },
  {
   "cell_type": "code",
   "execution_count": 2,
   "id": "5b7ed9e3",
   "metadata": {},
   "outputs": [
    {
     "data": {
      "text/plain": [
       "<function len(obj, /)>"
      ]
     },
     "execution_count": 2,
     "metadata": {},
     "output_type": "execute_result"
    }
   ],
   "source": [
    "len"
   ]
  },
  {
   "cell_type": "code",
   "execution_count": 3,
   "id": "b38bba72",
   "metadata": {},
   "outputs": [
    {
     "name": "stdout",
     "output_type": "stream",
     "text": [
      "The length of the list is :  4\n"
     ]
    }
   ],
   "source": [
    "print('The length of the list is : ', len([1, 2, 3, 4])) "
   ]
  },
  {
   "cell_type": "markdown",
   "id": "a5bba424",
   "metadata": {},
   "source": [
    "## How to make a function\n",
    "\n",
    "```python\n",
    "def name_of_function(parameters):\n",
    "    return result\n",
    "\n",
    "name_of_function(arguments)\n",
    "```"
   ]
  },
  {
   "cell_type": "code",
   "execution_count": 4,
   "id": "4c2d26c9",
   "metadata": {},
   "outputs": [],
   "source": [
    "def increment(n):\n",
    "    return n + 1"
   ]
  },
  {
   "cell_type": "code",
   "execution_count": 5,
   "id": "06f8c0b7",
   "metadata": {},
   "outputs": [
    {
     "data": {
      "text/plain": [
       "2"
      ]
     },
     "execution_count": 5,
     "metadata": {},
     "output_type": "execute_result"
    }
   ],
   "source": [
    "increment(1)"
   ]
  },
  {
   "cell_type": "code",
   "execution_count": 6,
   "id": "3cebbf31",
   "metadata": {},
   "outputs": [
    {
     "data": {
      "text/plain": [
       "3"
      ]
     },
     "execution_count": 6,
     "metadata": {},
     "output_type": "execute_result"
    }
   ],
   "source": [
    "increment(increment(1))"
   ]
  },
  {
   "cell_type": "code",
   "execution_count": 7,
   "id": "1e02b854",
   "metadata": {},
   "outputs": [
    {
     "data": {
      "text/plain": [
       "4"
      ]
     },
     "execution_count": 7,
     "metadata": {},
     "output_type": "execute_result"
    }
   ],
   "source": [
    "increment(increment(increment(1)))"
   ]
  },
  {
   "cell_type": "code",
   "execution_count": 8,
   "id": "5b4b589a",
   "metadata": {},
   "outputs": [],
   "source": [
    "def length(thing):\n",
    "    # thing = argument given\n",
    "    count = 0\n",
    "    \n",
    "    if thing == '' or thing == []:\n",
    "        return count\n",
    "    \n",
    "    for item in thing:\n",
    "        count += 1\n",
    "        \n",
    "    return count"
   ]
  },
  {
   "cell_type": "code",
   "execution_count": 9,
   "id": "b54684dd",
   "metadata": {},
   "outputs": [],
   "source": [
    "number = 1\n",
    "# number = number + 1\n",
    "number += 1"
   ]
  },
  {
   "cell_type": "code",
   "execution_count": 10,
   "id": "698cbedb",
   "metadata": {},
   "outputs": [
    {
     "data": {
      "text/plain": [
       "2"
      ]
     },
     "execution_count": 10,
     "metadata": {},
     "output_type": "execute_result"
    }
   ],
   "source": [
    "number"
   ]
  },
  {
   "cell_type": "code",
   "execution_count": 11,
   "id": "28e98051",
   "metadata": {},
   "outputs": [
    {
     "data": {
      "text/plain": [
       "3"
      ]
     },
     "execution_count": 11,
     "metadata": {},
     "output_type": "execute_result"
    }
   ],
   "source": [
    "length([1, 2, 3])"
   ]
  },
  {
   "cell_type": "code",
   "execution_count": 12,
   "id": "5f43ee57",
   "metadata": {},
   "outputs": [
    {
     "data": {
      "text/plain": [
       "0"
      ]
     },
     "execution_count": 12,
     "metadata": {},
     "output_type": "execute_result"
    }
   ],
   "source": [
    "length([])"
   ]
  },
  {
   "cell_type": "code",
   "execution_count": 13,
   "id": "02d75707",
   "metadata": {},
   "outputs": [
    {
     "data": {
      "text/plain": [
       "0"
      ]
     },
     "execution_count": 13,
     "metadata": {},
     "output_type": "execute_result"
    }
   ],
   "source": [
    "length('')"
   ]
  },
  {
   "cell_type": "code",
   "execution_count": 14,
   "id": "72561f68",
   "metadata": {},
   "outputs": [
    {
     "data": {
      "text/plain": [
       "5"
      ]
     },
     "execution_count": 14,
     "metadata": {},
     "output_type": "execute_result"
    }
   ],
   "source": [
    "length('Hello')"
   ]
  },
  {
   "cell_type": "markdown",
   "id": "1ec96bb5",
   "metadata": {},
   "source": [
    "## Multiple return statements"
   ]
  },
  {
   "cell_type": "code",
   "execution_count": 15,
   "id": "ac7432ef",
   "metadata": {},
   "outputs": [],
   "source": [
    "def increment(n):\n",
    "    return n + 1\n",
    "    print('You will never see this')\n",
    "    return n + 1"
   ]
  },
  {
   "cell_type": "code",
   "execution_count": 16,
   "id": "378822e9",
   "metadata": {},
   "outputs": [
    {
     "data": {
      "text/plain": [
       "2"
      ]
     },
     "execution_count": 16,
     "metadata": {},
     "output_type": "execute_result"
    }
   ],
   "source": [
    "increment(1)"
   ]
  },
  {
   "cell_type": "markdown",
   "id": "bfb6fe6b",
   "metadata": {},
   "source": [
    "## What if I don't return anything"
   ]
  },
  {
   "cell_type": "code",
   "execution_count": 17,
   "id": "aacb14fd",
   "metadata": {},
   "outputs": [],
   "source": [
    "def say_hello():\n",
    "    print('Hello!')"
   ]
  },
  {
   "cell_type": "code",
   "execution_count": 18,
   "id": "5867bddf",
   "metadata": {},
   "outputs": [
    {
     "name": "stdout",
     "output_type": "stream",
     "text": [
      "Hello!\n"
     ]
    }
   ],
   "source": [
    "say_hello()"
   ]
  },
  {
   "cell_type": "code",
   "execution_count": 19,
   "id": "0c2a54fd",
   "metadata": {},
   "outputs": [],
   "source": [
    "two = increment(1)"
   ]
  },
  {
   "cell_type": "code",
   "execution_count": 20,
   "id": "a656e72f",
   "metadata": {},
   "outputs": [
    {
     "data": {
      "text/plain": [
       "2"
      ]
     },
     "execution_count": 20,
     "metadata": {},
     "output_type": "execute_result"
    }
   ],
   "source": [
    "two"
   ]
  },
  {
   "cell_type": "code",
   "execution_count": 21,
   "id": "3120cde7",
   "metadata": {},
   "outputs": [
    {
     "name": "stdout",
     "output_type": "stream",
     "text": [
      "Hello!\n"
     ]
    }
   ],
   "source": [
    "hello = say_hello()"
   ]
  },
  {
   "cell_type": "code",
   "execution_count": 22,
   "id": "f0af4e1d",
   "metadata": {},
   "outputs": [],
   "source": [
    "hello"
   ]
  },
  {
   "cell_type": "code",
   "execution_count": 23,
   "id": "bc561266",
   "metadata": {},
   "outputs": [
    {
     "data": {
      "text/plain": [
       "NoneType"
      ]
     },
     "execution_count": 23,
     "metadata": {},
     "output_type": "execute_result"
    }
   ],
   "source": [
    "type(hello)"
   ]
  },
  {
   "cell_type": "code",
   "execution_count": 24,
   "id": "cb51e3a4",
   "metadata": {},
   "outputs": [],
   "source": [
    "None"
   ]
  },
  {
   "cell_type": "code",
   "execution_count": 25,
   "id": "8c41c93a",
   "metadata": {},
   "outputs": [
    {
     "name": "stdout",
     "output_type": "stream",
     "text": [
      "Hello\n"
     ]
    }
   ],
   "source": [
    "empty_var = print('Hello')"
   ]
  },
  {
   "cell_type": "code",
   "execution_count": 26,
   "id": "c2e45c7d",
   "metadata": {},
   "outputs": [],
   "source": [
    "empty_var"
   ]
  },
  {
   "cell_type": "code",
   "execution_count": 27,
   "id": "75da760b",
   "metadata": {},
   "outputs": [
    {
     "data": {
      "text/plain": [
       "NoneType"
      ]
     },
     "execution_count": 27,
     "metadata": {},
     "output_type": "execute_result"
    }
   ],
   "source": [
    "type(empty_var)"
   ]
  },
  {
   "cell_type": "code",
   "execution_count": 29,
   "id": "7c2250a7",
   "metadata": {},
   "outputs": [
    {
     "ename": "TypeError",
     "evalue": "say_hello() takes 0 positional arguments but 1 was given",
     "output_type": "error",
     "traceback": [
      "\u001b[0;31m---------------------------------------------------------------------------\u001b[0m",
      "\u001b[0;31mTypeError\u001b[0m                                 Traceback (most recent call last)",
      "Input \u001b[0;32mIn [29]\u001b[0m, in \u001b[0;36m<cell line: 1>\u001b[0;34m()\u001b[0m\n\u001b[0;32m----> 1\u001b[0m \u001b[43msay_hello\u001b[49m\u001b[43m(\u001b[49m\u001b[38;5;124;43m'\u001b[39;49m\u001b[38;5;124;43mRyan\u001b[39;49m\u001b[38;5;124;43m'\u001b[39;49m\u001b[43m)\u001b[49m\n",
      "\u001b[0;31mTypeError\u001b[0m: say_hello() takes 0 positional arguments but 1 was given"
     ]
    }
   ],
   "source": [
    "say_hello('Ryan')"
   ]
  },
  {
   "cell_type": "code",
   "execution_count": 30,
   "id": "12b43445",
   "metadata": {},
   "outputs": [
    {
     "ename": "TypeError",
     "evalue": "length() takes 1 positional argument but 2 were given",
     "output_type": "error",
     "traceback": [
      "\u001b[0;31m---------------------------------------------------------------------------\u001b[0m",
      "\u001b[0;31mTypeError\u001b[0m                                 Traceback (most recent call last)",
      "Input \u001b[0;32mIn [30]\u001b[0m, in \u001b[0;36m<cell line: 1>\u001b[0;34m()\u001b[0m\n\u001b[0;32m----> 1\u001b[0m \u001b[43mlength\u001b[49m\u001b[43m(\u001b[49m\u001b[38;5;124;43m'\u001b[39;49m\u001b[38;5;124;43mHello\u001b[39;49m\u001b[38;5;124;43m'\u001b[39;49m\u001b[43m,\u001b[49m\u001b[43m \u001b[49m\u001b[38;5;124;43m'\u001b[39;49m\u001b[38;5;124;43mGoodbye\u001b[39;49m\u001b[38;5;124;43m'\u001b[39;49m\u001b[43m)\u001b[49m\n",
      "\u001b[0;31mTypeError\u001b[0m: length() takes 1 positional argument but 2 were given"
     ]
    }
   ],
   "source": [
    "length('Hello', 'Goodbye')"
   ]
  },
  {
   "cell_type": "code",
   "execution_count": 31,
   "id": "0c5a767a",
   "metadata": {},
   "outputs": [
    {
     "data": {
      "text/plain": [
       "range(1, 10)"
      ]
     },
     "execution_count": 31,
     "metadata": {},
     "output_type": "execute_result"
    }
   ],
   "source": [
    "range(1, 10)"
   ]
  },
  {
   "cell_type": "code",
   "execution_count": 32,
   "id": "86687533",
   "metadata": {},
   "outputs": [
    {
     "ename": "TypeError",
     "evalue": "increment() missing 1 required positional argument: 'n'",
     "output_type": "error",
     "traceback": [
      "\u001b[0;31m---------------------------------------------------------------------------\u001b[0m",
      "\u001b[0;31mTypeError\u001b[0m                                 Traceback (most recent call last)",
      "Input \u001b[0;32mIn [32]\u001b[0m, in \u001b[0;36m<cell line: 1>\u001b[0;34m()\u001b[0m\n\u001b[0;32m----> 1\u001b[0m \u001b[43mincrement\u001b[49m\u001b[43m(\u001b[49m\u001b[43m)\u001b[49m\n",
      "\u001b[0;31mTypeError\u001b[0m: increment() missing 1 required positional argument: 'n'"
     ]
    }
   ],
   "source": [
    "increment()"
   ]
  },
  {
   "cell_type": "markdown",
   "id": "6ea5f120",
   "metadata": {},
   "source": [
    "## Default argrument"
   ]
  },
  {
   "cell_type": "code",
   "execution_count": 48,
   "id": "77522cd0",
   "metadata": {},
   "outputs": [],
   "source": [
    "def say_hello(greeting='Hello', name='User!'):\n",
    "    '''\n",
    "    Takes two arguments:\n",
    "    greeting(str): The string you would like\n",
    "    name(str): The name that you want included in the greeting\n",
    "    \n",
    "    Prints the greeting to the console\n",
    "    \n",
    "    Returns:\n",
    "    Nothing\n",
    "    '''\n",
    "    print(greeting, name)"
   ]
  },
  {
   "cell_type": "code",
   "execution_count": 34,
   "id": "0a4a0138",
   "metadata": {},
   "outputs": [
    {
     "name": "stdout",
     "output_type": "stream",
     "text": [
      "Hello User!\n"
     ]
    }
   ],
   "source": [
    "say_hello()"
   ]
  },
  {
   "cell_type": "code",
   "execution_count": 35,
   "id": "6933acfd",
   "metadata": {},
   "outputs": [
    {
     "name": "stdout",
     "output_type": "stream",
     "text": [
      "Salutation Ryan!\n"
     ]
    }
   ],
   "source": [
    "say_hello('Salutation', 'Ryan!')"
   ]
  },
  {
   "cell_type": "code",
   "execution_count": 36,
   "id": "b2174156",
   "metadata": {},
   "outputs": [
    {
     "name": "stdout",
     "output_type": "stream",
     "text": [
      "Salutations User!\n"
     ]
    }
   ],
   "source": [
    "say_hello('Salutations')"
   ]
  },
  {
   "cell_type": "markdown",
   "id": "8ab692ad",
   "metadata": {},
   "source": [
    "## Keyword Arguments"
   ]
  },
  {
   "cell_type": "code",
   "execution_count": 37,
   "id": "76cf16a4",
   "metadata": {},
   "outputs": [
    {
     "name": "stdout",
     "output_type": "stream",
     "text": [
      "Ryan User!\n"
     ]
    }
   ],
   "source": [
    "say_hello('Ryan')"
   ]
  },
  {
   "cell_type": "code",
   "execution_count": 38,
   "id": "fb89a278",
   "metadata": {},
   "outputs": [
    {
     "name": "stdout",
     "output_type": "stream",
     "text": [
      "Hello Ryan\n"
     ]
    }
   ],
   "source": [
    "say_hello(name='Ryan')"
   ]
  },
  {
   "cell_type": "code",
   "execution_count": 39,
   "id": "d60e9bf1",
   "metadata": {},
   "outputs": [
    {
     "ename": "SyntaxError",
     "evalue": "positional argument follows keyword argument (4293347968.py, line 1)",
     "output_type": "error",
     "traceback": [
      "\u001b[0;36m  Input \u001b[0;32mIn [39]\u001b[0;36m\u001b[0m\n\u001b[0;31m    say_hello(greeting='Salutations', 'Ryan')\u001b[0m\n\u001b[0m                                            ^\u001b[0m\n\u001b[0;31mSyntaxError\u001b[0m\u001b[0;31m:\u001b[0m positional argument follows keyword argument\n"
     ]
    }
   ],
   "source": [
    "say_hello(greeting='Salutations', 'Ryan')"
   ]
  },
  {
   "cell_type": "code",
   "execution_count": 40,
   "id": "9814544f",
   "metadata": {},
   "outputs": [],
   "source": [
    "def print_multiple(thing1='Empty', \n",
    "                   thing2='Empty', \n",
    "                   thing3='Empty', \n",
    "                   thing4='Empty', \n",
    "                   thing5='Empty'):\n",
    "    list_of_things = [thing1, thing2, thing3, thing4, thing5]\n",
    "    \n",
    "    for thing in list_of_things:\n",
    "        print(thing)"
   ]
  },
  {
   "cell_type": "code",
   "execution_count": 42,
   "id": "6a31f202",
   "metadata": {},
   "outputs": [
    {
     "name": "stdout",
     "output_type": "stream",
     "text": [
      "Hello\n",
      "Mirzakhani\n",
      "Empty\n",
      "I am thing4\n",
      "Wow\n"
     ]
    }
   ],
   "source": [
    "print_multiple('Hello', 'Mirzakhani', thing4='I am thing4', thing5='Wow')"
   ]
  },
  {
   "cell_type": "markdown",
   "id": "411346a7",
   "metadata": {},
   "source": [
    "## *args"
   ]
  },
  {
   "cell_type": "code",
   "execution_count": 43,
   "id": "337e6eaf",
   "metadata": {},
   "outputs": [
    {
     "name": "stdout",
     "output_type": "stream",
     "text": [
      "Greetings Ryan\n"
     ]
    }
   ],
   "source": [
    "say_hello('Greetings', 'Ryan')"
   ]
  },
  {
   "cell_type": "code",
   "execution_count": 44,
   "id": "2f5c07bf",
   "metadata": {},
   "outputs": [
    {
     "name": "stdout",
     "output_type": "stream",
     "text": [
      "Greetings Ryan\n"
     ]
    }
   ],
   "source": [
    "list_of_arguments = ['Greetings', 'Ryan']\n",
    "\n",
    "say_hello(*list_of_arguments)"
   ]
  },
  {
   "cell_type": "markdown",
   "id": "2a24b9c2",
   "metadata": {},
   "source": [
    "## **kwargs"
   ]
  },
  {
   "cell_type": "code",
   "execution_count": 45,
   "id": "a8f5c74b",
   "metadata": {},
   "outputs": [
    {
     "name": "stdout",
     "output_type": "stream",
     "text": [
      "Greetings Ryan\n"
     ]
    }
   ],
   "source": [
    "dict_of_arguments = {\n",
    "    'greeting': 'Greetings',\n",
    "    'name': 'Ryan'\n",
    "}\n",
    "\n",
    "say_hello(**dict_of_arguments)"
   ]
  },
  {
   "cell_type": "markdown",
   "id": "95fdc954",
   "metadata": {},
   "source": [
    "### How do we check the function?"
   ]
  },
  {
   "cell_type": "code",
   "execution_count": 51,
   "id": "3c00bb7d",
   "metadata": {},
   "outputs": [],
   "source": [
    "say_hello?"
   ]
  },
  {
   "cell_type": "markdown",
   "id": "9fc7e57b",
   "metadata": {},
   "source": [
    "## Scope"
   ]
  },
  {
   "cell_type": "code",
   "execution_count": 54,
   "id": "d62cae71",
   "metadata": {},
   "outputs": [
    {
     "name": "stdout",
     "output_type": "stream",
     "text": [
      "Inside the function: 1\n",
      "Outside the function: 1\n"
     ]
    }
   ],
   "source": [
    "number = 1\n",
    "\n",
    "def print_number():\n",
    "    print('Inside the function:', number)\n",
    "    \n",
    "print_number()\n",
    "print('Outside the function:', number)"
   ]
  },
  {
   "cell_type": "code",
   "execution_count": 56,
   "id": "6a019cc5",
   "metadata": {},
   "outputs": [
    {
     "name": "stdout",
     "output_type": "stream",
     "text": [
      "Inside the function: 1\n",
      "Outside the function: 1\n"
     ]
    }
   ],
   "source": [
    "def print_number():\n",
    "    print('Inside the function:', other_number)\n",
    "    \n",
    "other_number = 1\n",
    "print_number()\n",
    "print('Outside the function:', other_number)"
   ]
  },
  {
   "cell_type": "code",
   "execution_count": 57,
   "id": "8ec85e2b",
   "metadata": {},
   "outputs": [
    {
     "ename": "NameError",
     "evalue": "name 'some_other_number' is not defined",
     "output_type": "error",
     "traceback": [
      "\u001b[0;31m---------------------------------------------------------------------------\u001b[0m",
      "\u001b[0;31mNameError\u001b[0m                                 Traceback (most recent call last)",
      "Input \u001b[0;32mIn [57]\u001b[0m, in \u001b[0;36m<cell line: 4>\u001b[0;34m()\u001b[0m\n\u001b[1;32m      1\u001b[0m \u001b[38;5;28;01mdef\u001b[39;00m \u001b[38;5;21mprint_number\u001b[39m():\n\u001b[1;32m      2\u001b[0m     \u001b[38;5;28mprint\u001b[39m(\u001b[38;5;124m'\u001b[39m\u001b[38;5;124mInside the function:\u001b[39m\u001b[38;5;124m'\u001b[39m, some_other_number)\n\u001b[0;32m----> 4\u001b[0m \u001b[43mprint_number\u001b[49m\u001b[43m(\u001b[49m\u001b[43m)\u001b[49m\n\u001b[1;32m      5\u001b[0m some_other_number \u001b[38;5;241m=\u001b[39m \u001b[38;5;241m1\u001b[39m\n\u001b[1;32m      6\u001b[0m \u001b[38;5;28mprint\u001b[39m(\u001b[38;5;124m'\u001b[39m\u001b[38;5;124mOutside the function:\u001b[39m\u001b[38;5;124m'\u001b[39m, other_number)\n",
      "Input \u001b[0;32mIn [57]\u001b[0m, in \u001b[0;36mprint_number\u001b[0;34m()\u001b[0m\n\u001b[1;32m      1\u001b[0m \u001b[38;5;28;01mdef\u001b[39;00m \u001b[38;5;21mprint_number\u001b[39m():\n\u001b[0;32m----> 2\u001b[0m     \u001b[38;5;28mprint\u001b[39m(\u001b[38;5;124m'\u001b[39m\u001b[38;5;124mInside the function:\u001b[39m\u001b[38;5;124m'\u001b[39m, \u001b[43msome_other_number\u001b[49m)\n",
      "\u001b[0;31mNameError\u001b[0m: name 'some_other_number' is not defined"
     ]
    }
   ],
   "source": [
    "def print_number():\n",
    "    print('Inside the function:', some_other_number)\n",
    "    \n",
    "print_number()\n",
    "some_other_number = 1\n",
    "print('Outside the function:', some_other_number)"
   ]
  },
  {
   "cell_type": "code",
   "execution_count": 58,
   "id": "ab8148c3",
   "metadata": {},
   "outputs": [
    {
     "name": "stdout",
     "output_type": "stream",
     "text": [
      "Outside the function: 123\n",
      "Inside the function: 7\n",
      "After the function ran: 123\n"
     ]
    }
   ],
   "source": [
    "n = 123\n",
    "\n",
    "def a_function():\n",
    "    n = 10\n",
    "    n = n - 3\n",
    "    print('Inside the function:', n)\n",
    "    \n",
    "print('Outside the function:', n)\n",
    "a_function()\n",
    "print('After the function ran:', n)"
   ]
  },
  {
   "cell_type": "markdown",
   "id": "34b71509",
   "metadata": {},
   "source": [
    "## Lambda Functions"
   ]
  },
  {
   "cell_type": "code",
   "execution_count": 60,
   "id": "03f14626",
   "metadata": {},
   "outputs": [
    {
     "data": {
      "text/plain": [
       "10"
      ]
     },
     "execution_count": 60,
     "metadata": {},
     "output_type": "execute_result"
    }
   ],
   "source": [
    "add_one = lambda n: n + 1\n",
    "add_one(9)"
   ]
  },
  {
   "cell_type": "code",
   "execution_count": 61,
   "id": "86b3dcbe",
   "metadata": {},
   "outputs": [],
   "source": [
    "square = lambda n: n**2"
   ]
  },
  {
   "cell_type": "code",
   "execution_count": 62,
   "id": "d2041bf4",
   "metadata": {},
   "outputs": [
    {
     "data": {
      "text/plain": [
       "4"
      ]
     },
     "execution_count": 62,
     "metadata": {},
     "output_type": "execute_result"
    }
   ],
   "source": [
    "square(2)"
   ]
  },
  {
   "cell_type": "code",
   "execution_count": 64,
   "id": "3ac9fdfd",
   "metadata": {},
   "outputs": [
    {
     "data": {
      "text/plain": [
       "[2, 3, 4]"
      ]
     },
     "execution_count": 64,
     "metadata": {},
     "output_type": "execute_result"
    }
   ],
   "source": [
    "list(map(len, [[1,2], [3, 4, 5], [6, 7, 8, 9]]))"
   ]
  },
  {
   "cell_type": "code",
   "execution_count": 67,
   "id": "5d008705",
   "metadata": {},
   "outputs": [
    {
     "data": {
      "text/plain": [
       "[1, 4, 9, 16, 25, 36, 49, 64, 81, 100]"
      ]
     },
     "execution_count": 67,
     "metadata": {},
     "output_type": "execute_result"
    }
   ],
   "source": [
    "list_of_numbers = list(range(1, 11))\n",
    "\n",
    "list(map(lambda n: n** 2, list_of_numbers))"
   ]
  },
  {
   "cell_type": "code",
   "execution_count": 69,
   "id": "06e1371a",
   "metadata": {},
   "outputs": [
    {
     "data": {
      "text/plain": [
       "10"
      ]
     },
     "execution_count": 69,
     "metadata": {},
     "output_type": "execute_result"
    }
   ],
   "source": [
    "add_one(5) + square(2)"
   ]
  },
  {
   "cell_type": "code",
   "execution_count": null,
   "id": "081f5276",
   "metadata": {},
   "outputs": [],
   "source": []
  }
 ],
 "metadata": {
  "kernelspec": {
   "display_name": "Python 3 (ipykernel)",
   "language": "python",
   "name": "python3"
  },
  "language_info": {
   "codemirror_mode": {
    "name": "ipython",
    "version": 3
   },
   "file_extension": ".py",
   "mimetype": "text/x-python",
   "name": "python",
   "nbconvert_exporter": "python",
   "pygments_lexer": "ipython3",
   "version": "3.9.12"
  }
 },
 "nbformat": 4,
 "nbformat_minor": 5
}
