{
 "cells": [
  {
   "cell_type": "markdown",
   "id": "57e89749",
   "metadata": {},
   "source": [
    "### Conditional Basics"
   ]
  },
  {
   "cell_type": "markdown",
   "id": "622ffdf1",
   "metadata": {},
   "source": [
    "#### prompt the user for a day of the week, print out whether the day is Monday or not"
   ]
  },
  {
   "cell_type": "code",
   "execution_count": 13,
   "id": "309de677",
   "metadata": {},
   "outputs": [
    {
     "name": "stdout",
     "output_type": "stream",
     "text": [
      "Enter a day of the week: Thursday\n",
      "It is not Monday!\n"
     ]
    }
   ],
   "source": [
    "day = input(\"Enter a day of the week: \")\n",
    "\n",
    "if day.lower() == \"monday\":\n",
    "    print(\"It is Monday!\")\n",
    "else:\n",
    "    print(\"It is not Monday!\")"
   ]
  },
  {
   "cell_type": "markdown",
   "id": "963e9629",
   "metadata": {},
   "source": [
    "#### prompt the user for a day of the week, print out whether the day is a weekday or a weekend"
   ]
  },
  {
   "cell_type": "code",
   "execution_count": 15,
   "id": "97a72830",
   "metadata": {},
   "outputs": [
    {
     "name": "stdout",
     "output_type": "stream",
     "text": [
      "Enter a day of the week: Monday\n",
      "It is not a Weekend!\n"
     ]
    }
   ],
   "source": [
    "day = input(\"Enter a day of the week: \")\n",
    "\n",
    "if day.lower() in [\"saturday\",\"sunday\"]:\n",
    "    print(\"It is a Weekend!\")\n",
    "else:\n",
    "    print(\"It is not a Weekend!\")"
   ]
  },
  {
   "cell_type": "markdown",
   "id": "0ed57d6b",
   "metadata": {},
   "source": [
    "#### create variables and make up values for\n",
    " - the number of hours worked in one week\n",
    " - the hourly rate\n",
    " - how much the week's paycheck will be\n",
    " \n",
    "write the python code that calculates the weekly paycheck. You get paid time and a half if you work more than 40 hours"
   ]
  },
  {
   "cell_type": "code",
   "execution_count": 20,
   "id": "dd97b1c0",
   "metadata": {},
   "outputs": [
    {
     "name": "stdout",
     "output_type": "stream",
     "text": [
      "OVERTIME!\n",
      "950.0\n"
     ]
    }
   ],
   "source": [
    "hours_worked = 45\n",
    "hourly_rate = 20\n",
    "\n",
    "if hours_worked <= 40:\n",
    "    paycheck = hours_worked * hourly_rate\n",
    "    print(paycheck)\n",
    "    \n",
    "elif hours_worked > 40:\n",
    "    print(\"OVERTIME!\")\n",
    "    ot_hours = (hours_worked - 40)\n",
    "    ot_rate = hourly_rate * 1.5\n",
    "    \n",
    "    ot_paycheck = (40 * hourly_rate) + (ot_hours * ot_rate)\n",
    "    print(ot_paycheck)"
   ]
  },
  {
   "cell_type": "markdown",
   "id": "973525c3",
   "metadata": {},
   "source": [
    "### Loop Basics"
   ]
  },
  {
   "cell_type": "markdown",
   "id": "3d36b9a3",
   "metadata": {},
   "source": [
    "#### While\n",
    "\n",
    "- Create an integer variable i with a value of 5.\n",
    "- Create a while loop that runs so long as i is less than or equal to 15\n",
    "- Each loop iteration, output the current value of i, then increment i by one."
   ]
  },
  {
   "cell_type": "code",
   "execution_count": 21,
   "id": "54947c5b",
   "metadata": {},
   "outputs": [
    {
     "name": "stdout",
     "output_type": "stream",
     "text": [
      "5\n",
      "6\n",
      "7\n",
      "8\n",
      "9\n",
      "10\n",
      "11\n",
      "12\n",
      "13\n",
      "14\n",
      "15\n"
     ]
    }
   ],
   "source": [
    "i = 5\n",
    "\n",
    "while i <= 15:\n",
    "    print(i)\n",
    "    i += 1"
   ]
  },
  {
   "cell_type": "markdown",
   "id": "6264c76a",
   "metadata": {},
   "source": [
    "#### Create a while loop that will count by 2's starting with 0 and ending at 100. Follow each number with a new line."
   ]
  },
  {
   "cell_type": "code",
   "execution_count": 22,
   "id": "d5aa464e",
   "metadata": {},
   "outputs": [
    {
     "name": "stdout",
     "output_type": "stream",
     "text": [
      "0\n",
      "2\n",
      "4\n",
      "6\n",
      "8\n",
      "10\n",
      "12\n",
      "14\n",
      "16\n",
      "18\n",
      "20\n",
      "22\n",
      "24\n",
      "26\n",
      "28\n",
      "30\n",
      "32\n",
      "34\n",
      "36\n",
      "38\n",
      "40\n",
      "42\n",
      "44\n",
      "46\n",
      "48\n",
      "50\n",
      "52\n",
      "54\n",
      "56\n",
      "58\n",
      "60\n",
      "62\n",
      "64\n",
      "66\n",
      "68\n",
      "70\n",
      "72\n",
      "74\n",
      "76\n",
      "78\n",
      "80\n",
      "82\n",
      "84\n",
      "86\n",
      "88\n",
      "90\n",
      "92\n",
      "94\n",
      "96\n",
      "98\n",
      "100\n"
     ]
    }
   ],
   "source": [
    "i = 0\n",
    "\n",
    "while i <= 100:\n",
    "    print(i)\n",
    "    i += 2"
   ]
  },
  {
   "cell_type": "markdown",
   "id": "7fbc78b0",
   "metadata": {},
   "source": [
    "#### Alter your loop to count backwards by 5's from 100 to -10."
   ]
  },
  {
   "cell_type": "code",
   "execution_count": 25,
   "id": "ef673224",
   "metadata": {},
   "outputs": [
    {
     "name": "stdout",
     "output_type": "stream",
     "text": [
      "100\n",
      "95\n",
      "90\n",
      "85\n",
      "80\n",
      "75\n",
      "70\n",
      "65\n",
      "60\n",
      "55\n",
      "50\n",
      "45\n",
      "40\n",
      "35\n",
      "30\n",
      "25\n",
      "20\n",
      "15\n",
      "10\n",
      "5\n",
      "0\n",
      "-5\n",
      "-10\n"
     ]
    }
   ],
   "source": [
    "i = 100\n",
    "\n",
    "while i >= -10:\n",
    "    print(i)\n",
    "    i -= 5"
   ]
  },
  {
   "cell_type": "markdown",
   "id": "33fa26c2",
   "metadata": {},
   "source": [
    "#### Create a while loop that starts at 2, and displays the number squared on each line while the number is less than 1,000,000. "
   ]
  },
  {
   "cell_type": "code",
   "execution_count": 27,
   "id": "13e67e56",
   "metadata": {},
   "outputs": [
    {
     "name": "stdout",
     "output_type": "stream",
     "text": [
      "2\n",
      "4\n",
      "16\n",
      "256\n",
      "65536\n"
     ]
    }
   ],
   "source": [
    "i = 2\n",
    "\n",
    "while i < 1_000_000:\n",
    "    print(i)\n",
    "    i**=2"
   ]
  },
  {
   "cell_type": "markdown",
   "id": "1d5eb281",
   "metadata": {},
   "source": [
    "#### Write a loop that uses print to create the output shown below.\n",
    "\n",
    "100\n",
    "95\n",
    "90\n",
    "85\n",
    "80\n",
    "75\n",
    "70\n",
    "65\n",
    "60\n",
    "55\n",
    "50\n",
    "45\n",
    "40\n",
    "35\n",
    "30\n",
    "25\n",
    "20\n",
    "15\n",
    "10\n",
    "5"
   ]
  },
  {
   "cell_type": "code",
   "execution_count": 28,
   "id": "55b741c9",
   "metadata": {},
   "outputs": [
    {
     "name": "stdout",
     "output_type": "stream",
     "text": [
      "100\n",
      "95\n",
      "90\n",
      "85\n",
      "80\n",
      "75\n",
      "70\n",
      "65\n",
      "60\n",
      "55\n",
      "50\n",
      "45\n",
      "40\n",
      "35\n",
      "30\n",
      "25\n",
      "20\n",
      "15\n",
      "10\n",
      "5\n"
     ]
    }
   ],
   "source": [
    "i = 100\n",
    "\n",
    "while i >= 5:\n",
    "    print(i)\n",
    "    i -= 5"
   ]
  },
  {
   "cell_type": "markdown",
   "id": "aa39e6ce",
   "metadata": {},
   "source": [
    "### For Loops"
   ]
  },
  {
   "cell_type": "markdown",
   "id": "70f9b738",
   "metadata": {},
   "source": [
    "#### Write some code that prompts the user for a number, then shows a multiplication table up through 10 for that number."
   ]
  },
  {
   "cell_type": "code",
   "execution_count": 29,
   "id": "d500e1aa",
   "metadata": {},
   "outputs": [
    {
     "name": "stdout",
     "output_type": "stream",
     "text": [
      "Enter a number: 5\n"
     ]
    }
   ],
   "source": [
    "user_num = input('Enter a number: ')"
   ]
  },
  {
   "cell_type": "code",
   "execution_count": 30,
   "id": "05077ca7",
   "metadata": {},
   "outputs": [
    {
     "data": {
      "text/plain": [
       "str"
      ]
     },
     "execution_count": 30,
     "metadata": {},
     "output_type": "execute_result"
    }
   ],
   "source": [
    "type(user_num)"
   ]
  },
  {
   "cell_type": "code",
   "execution_count": 31,
   "id": "6b57f45c",
   "metadata": {},
   "outputs": [
    {
     "name": "stdout",
     "output_type": "stream",
     "text": [
      "5 x 1 = 5\n",
      "5 x 2 = 10\n",
      "5 x 3 = 15\n",
      "5 x 4 = 20\n",
      "5 x 5 = 25\n",
      "5 x 6 = 30\n",
      "5 x 7 = 35\n",
      "5 x 8 = 40\n",
      "5 x 9 = 45\n",
      "5 x 10 = 50\n"
     ]
    }
   ],
   "source": [
    "for i in range(1, 11):\n",
    "    print(f'{user_num} x {i} = {int(user_num) * i}')"
   ]
  },
  {
   "cell_type": "markdown",
   "id": "522b325c",
   "metadata": {},
   "source": [
    "#### Create a for loop that uses print to create the output shown below.\n",
    "\n",
    "\n",
    "1\n",
    "\n",
    "22\n",
    "\n",
    "333\n",
    "\n",
    "4444\n",
    "\n",
    "55555\n",
    "\n",
    "666666\n",
    "\n",
    "7777777\n",
    "\n",
    "88888888\n",
    "\n",
    "999999999"
   ]
  },
  {
   "cell_type": "code",
   "execution_count": 33,
   "id": "26ce954f",
   "metadata": {},
   "outputs": [
    {
     "name": "stdout",
     "output_type": "stream",
     "text": [
      "1\n",
      "22\n",
      "333\n",
      "4444\n",
      "55555\n",
      "666666\n",
      "7777777\n",
      "88888888\n",
      "999999999\n"
     ]
    }
   ],
   "source": [
    "for i in range(1, 10):\n",
    "    print(i * str(i))"
   ]
  },
  {
   "cell_type": "markdown",
   "id": "d228d043",
   "metadata": {},
   "source": [
    "#### break and continue"
   ]
  },
  {
   "cell_type": "markdown",
   "id": "0df4638b",
   "metadata": {},
   "source": [
    "#### Write a program that prompts the user for a positive integer. Next write a loop that prints out the numbers from the number the user entered down to 1."
   ]
  },
  {
   "cell_type": "code",
   "execution_count": 35,
   "id": "6a8e757a",
   "metadata": {},
   "outputs": [
    {
     "name": "stdout",
     "output_type": "stream",
     "text": [
      "Please enter a positive number: -2\n",
      "Please enter a positive number: dfgsdfg\n",
      "Please enter a positive number: 5\n",
      "This is a digit\n",
      "The number is positive!\n",
      "5\n",
      "4\n",
      "3\n",
      "2\n",
      "1\n"
     ]
    }
   ],
   "source": [
    "while True:\n",
    "    user_num = input('Please enter a positive number: ')\n",
    "    \n",
    "    if user_num.isdigit() == True:\n",
    "        print('This is a digit')\n",
    "        if int(user_num) > 0:\n",
    "            print('The number is positive!')\n",
    "            break\n",
    "            \n",
    "user_num = int(user_num)\n",
    "for i in range(user_num, 0, -1):\n",
    "    print(i)"
   ]
  },
  {
   "cell_type": "markdown",
   "id": "93e3341a",
   "metadata": {},
   "source": [
    "#### The input function can be used to prompt for input and use that input in your python code. Prompt the user to enter a positive number and write a loop that counts from 0 to that number. (Hints: first make sure that the value the user entered is a valid number, also note that the input function returns a string, so you'll need to convert this to a numeric type.)"
   ]
  },
  {
   "cell_type": "code",
   "execution_count": 37,
   "id": "3b9c4b5e",
   "metadata": {},
   "outputs": [
    {
     "name": "stdout",
     "output_type": "stream",
     "text": [
      "Please enter a positive number: 5\n",
      "This is a digit\n",
      "The number is positive!\n",
      "0\n",
      "1\n",
      "2\n",
      "3\n",
      "4\n",
      "5\n"
     ]
    }
   ],
   "source": [
    "while True:\n",
    "    user_num = input('Please enter a positive number: ')\n",
    "    \n",
    "    if user_num.isdigit() == True:\n",
    "        print('This is a digit')\n",
    "        if int(user_num) > 0:\n",
    "            print('The number is positive!')\n",
    "            break\n",
    "            \n",
    "for i in range(int(user_num)+1):\n",
    "    print(i)"
   ]
  },
  {
   "cell_type": "markdown",
   "id": "79247599",
   "metadata": {},
   "source": [
    "#### Prompt the user for an odd number between 1 and 50. Use a loop and a break statement to continue prompting the user if they enter invalid input. (Hint: use the isdigit method on strings to determine this). Use a loop and the continue statement to output all the odd numbers between 1 and 50, except for the number the user entered."
   ]
  },
  {
   "cell_type": "code",
   "execution_count": 44,
   "id": "ea57cda5",
   "metadata": {},
   "outputs": [
    {
     "data": {
      "text/plain": [
       "49"
      ]
     },
     "execution_count": 44,
     "metadata": {},
     "output_type": "execute_result"
    }
   ],
   "source": [
    "i"
   ]
  },
  {
   "cell_type": "code",
   "execution_count": 50,
   "id": "e30045dd",
   "metadata": {},
   "outputs": [
    {
     "name": "stdout",
     "output_type": "stream",
     "text": [
      "Enter an odd number between 1 and 50: 47\n",
      "This is a digit\n",
      "This is an odd number\n",
      "This number is between 1 and 50\n",
      "1\n",
      "3\n",
      "5\n",
      "7\n",
      "9\n",
      "11\n",
      "13\n",
      "15\n",
      "17\n",
      "19\n",
      "21\n",
      "23\n",
      "25\n",
      "27\n",
      "29\n",
      "31\n",
      "33\n",
      "35\n",
      "37\n",
      "39\n",
      "41\n",
      "43\n",
      "45\n",
      "We skipped this!\n",
      "49\n"
     ]
    }
   ],
   "source": [
    "while True:\n",
    "    user_num = input('Enter an odd number between 1 and 50: ')\n",
    "    \n",
    "    if user_num.isdigit():\n",
    "        print('This is a digit')\n",
    "        if int(user_num) % 2 != 0:\n",
    "            print('This is an odd number')\n",
    "            if (int(user_num) > 1) and (int(user_num) < 50):\n",
    "                print('This number is between 1 and 50')\n",
    "                break\n",
    "                \n",
    "user_num = int(user_num)\n",
    "                \n",
    "for i in range(1,50):\n",
    "    if i == user_num:\n",
    "        print('We skipped this!')\n",
    "        continue\n",
    "    if i % 2 == 1:\n",
    "        print(i)"
   ]
  },
  {
   "cell_type": "markdown",
   "id": "727dbbb8",
   "metadata": {},
   "source": [
    "### Fizzbuzz"
   ]
  },
  {
   "cell_type": "markdown",
   "id": "6892c569",
   "metadata": {},
   "source": [
    "One of the most common interview questions for entry-level programmers is the FizzBuzz test. Developed by Imran Ghory, the test is designed to test basic looping and conditional logic skills.\n",
    "\n",
    "- Write a program that prints the numbers from 1 to 100.\n",
    "- For multiples of three print \"Fizz\" instead of the number\n",
    "- For the multiples of five print \"Buzz\".\n",
    "- For numbers which are multiples of both three and five print \"FizzBuzz\"."
   ]
  },
  {
   "cell_type": "code",
   "execution_count": 51,
   "id": "396c85c3",
   "metadata": {},
   "outputs": [
    {
     "name": "stdout",
     "output_type": "stream",
     "text": [
      "1\n",
      "2\n",
      "Fizz\n",
      "4\n",
      "Buzz\n",
      "Fizz\n",
      "7\n",
      "8\n",
      "Fizz\n",
      "Buzz\n",
      "11\n",
      "Fizz\n",
      "13\n",
      "14\n",
      "FizzBuzz\n",
      "16\n",
      "17\n",
      "Fizz\n",
      "19\n",
      "Buzz\n",
      "Fizz\n",
      "22\n",
      "23\n",
      "Fizz\n",
      "Buzz\n",
      "26\n",
      "Fizz\n",
      "28\n",
      "29\n",
      "FizzBuzz\n",
      "31\n",
      "32\n",
      "Fizz\n",
      "34\n",
      "Buzz\n",
      "Fizz\n",
      "37\n",
      "38\n",
      "Fizz\n",
      "Buzz\n",
      "41\n",
      "Fizz\n",
      "43\n",
      "44\n",
      "FizzBuzz\n",
      "46\n",
      "47\n",
      "Fizz\n",
      "49\n",
      "Buzz\n",
      "Fizz\n",
      "52\n",
      "53\n",
      "Fizz\n",
      "Buzz\n",
      "56\n",
      "Fizz\n",
      "58\n",
      "59\n",
      "FizzBuzz\n",
      "61\n",
      "62\n",
      "Fizz\n",
      "64\n",
      "Buzz\n",
      "Fizz\n",
      "67\n",
      "68\n",
      "Fizz\n",
      "Buzz\n",
      "71\n",
      "Fizz\n",
      "73\n",
      "74\n",
      "FizzBuzz\n",
      "76\n",
      "77\n",
      "Fizz\n",
      "79\n",
      "Buzz\n",
      "Fizz\n",
      "82\n",
      "83\n",
      "Fizz\n",
      "Buzz\n",
      "86\n",
      "Fizz\n",
      "88\n",
      "89\n",
      "FizzBuzz\n",
      "91\n",
      "92\n",
      "Fizz\n",
      "94\n",
      "Buzz\n",
      "Fizz\n",
      "97\n",
      "98\n",
      "Fizz\n",
      "Buzz\n"
     ]
    }
   ],
   "source": [
    "for i in range(1,101):\n",
    "    if i % 15 == 0:\n",
    "        print('FizzBuzz')\n",
    "        continue\n",
    "    if i % 3 == 0:\n",
    "        print('Fizz')\n",
    "        continue\n",
    "    if i % 5 == 0:\n",
    "        print('Buzz')\n",
    "        continue\n",
    "    print(i)"
   ]
  },
  {
   "cell_type": "markdown",
   "id": "01562061",
   "metadata": {},
   "source": [
    "### Display a table of powers."
   ]
  },
  {
   "cell_type": "markdown",
   "id": "400e11ba",
   "metadata": {},
   "source": [
    "- Prompt the user to enter an integer.\n",
    "- Display a table of squares and cubes from 1 to the value entered.\n",
    "- Ask if the user wants to continue.\n",
    "- Assume that the user will enter valid data.\n",
    "- Only continue if the user agrees to."
   ]
  },
  {
   "cell_type": "code",
   "execution_count": 52,
   "id": "c62a4b62",
   "metadata": {},
   "outputs": [
    {
     "name": "stdout",
     "output_type": "stream",
     "text": [
      "Enter an ineger: 3\n"
     ]
    },
    {
     "data": {
      "text/plain": [
       "(3, 9, 27)"
      ]
     },
     "execution_count": 52,
     "metadata": {},
     "output_type": "execute_result"
    }
   ],
   "source": [
    "user_num = int(input('Enter an ineger: '))\n",
    "\n",
    "user_num, user_num**2, user_num**3"
   ]
  },
  {
   "cell_type": "code",
   "execution_count": 55,
   "id": "34b47575",
   "metadata": {},
   "outputs": [
    {
     "name": "stdout",
     "output_type": "stream",
     "text": [
      "Enter an ineger: 5\n",
      "1  |1  |1\n",
      "2  |4  |8\n",
      "3  |9  |27\n",
      "4  |16  |64\n",
      "5  |25  |125\n",
      "Would you like to continue? (y/n): dsghrtj\n"
     ]
    }
   ],
   "source": [
    "while True:\n",
    "    user_num = int(input('Enter an ineger: '))\n",
    "\n",
    "    for i in range(1, user_num+1):\n",
    "        print(f'{i}  |{i**2}  |{i**3}')\n",
    "        \n",
    "    user_yn = input('Would you like to continue? (y/n): ')\n",
    "    if user_yn.lower() !='y':\n",
    "        break"
   ]
  },
  {
   "cell_type": "markdown",
   "id": "f9f92e91",
   "metadata": {},
   "source": [
    "#### Convert given number grades into letter grades.\n",
    "\n",
    "- Prompt the user for a numerical grade from 0 to 100.\n",
    "- Display the corresponding letter grade.\n",
    "- Prompt the user to continue.\n",
    "- Assume that the user will enter valid integers for the grades.\n",
    "- The application should only continue if the user agrees to.\n",
    "Grade Ranges:\n",
    "\n",
    "A : 100 - 88\n",
    "\n",
    "B : 87 - 80\n",
    "\n",
    "C : 79 - 67\n",
    "\n",
    "D : 66 - 60\n",
    "\n",
    "F : 59 - 0"
   ]
  },
  {
   "cell_type": "code",
   "execution_count": 58,
   "id": "687a8380",
   "metadata": {},
   "outputs": [
    {
     "name": "stdout",
     "output_type": "stream",
     "text": [
      "Enter a numerical grade from 0-100: 67\n",
      "C\n"
     ]
    }
   ],
   "source": [
    "user_grade = int(input('Enter a numerical grade from 0-100: '))\n",
    "\n",
    "if user_grade >= 88:\n",
    "    print('A')\n",
    "elif user_grade >= 80:\n",
    "    print('B')\n",
    "elif user_grade >= 67:\n",
    "    print('C')\n",
    "elif user_grade >= 60:\n",
    "    print('D')\n",
    "else:\n",
    "    print('F')"
   ]
  },
  {
   "cell_type": "code",
   "execution_count": 59,
   "id": "1b7acc17",
   "metadata": {},
   "outputs": [
    {
     "name": "stdout",
     "output_type": "stream",
     "text": [
      "Enter a numerical grade from 0-100: 82\n",
      "B\n",
      "Would you like to continue? (y/n)y\n",
      "Enter a numerical grade from 0-100: 75\n",
      "C\n",
      "Would you like to continue? (y/n)n\n"
     ]
    }
   ],
   "source": [
    "while True: \n",
    "    user_grade = int(input('Enter a numerical grade from 0-100: '))\n",
    "\n",
    "    if user_grade >= 88:\n",
    "        print('A')\n",
    "    elif user_grade >= 80:\n",
    "        print('B')\n",
    "    elif user_grade >= 67:\n",
    "        print('C')\n",
    "    elif user_grade >= 60:\n",
    "        print('D')\n",
    "    else:\n",
    "        print('F')\n",
    "        \n",
    "    user_yn = input('Would you like to continue? (y/n)')\n",
    "    if user_yn.lower() != 'y':\n",
    "        break"
   ]
  },
  {
   "cell_type": "markdown",
   "id": "98a4ec9f",
   "metadata": {},
   "source": [
    "#### Create a list of dictionaries where each dictionary represents a book that you have read. Each dictionary in the list should have the keys title, author, and genre. Loop through the list and print out information about each book."
   ]
  },
  {
   "cell_type": "code",
   "execution_count": 60,
   "id": "913371fa",
   "metadata": {},
   "outputs": [],
   "source": [
    "books = [{'title': 'title111', 'author': 'author1', 'genre': 'genre1'},\n",
    " {'title': 'title222', 'author': 'author1', 'genre': 'genre2'},\n",
    " {'title': 'title333', 'author': 'author2', 'genre': 'genre2'},\n",
    " {'title': 'title444', 'author': 'author3', 'genre': 'genre2'}]"
   ]
  },
  {
   "cell_type": "code",
   "execution_count": 61,
   "id": "db1cca2a",
   "metadata": {},
   "outputs": [
    {
     "name": "stdout",
     "output_type": "stream",
     "text": [
      "{'title': 'title111', 'author': 'author1', 'genre': 'genre1'}\n",
      "{'title': 'title222', 'author': 'author1', 'genre': 'genre2'}\n",
      "{'title': 'title333', 'author': 'author2', 'genre': 'genre2'}\n",
      "{'title': 'title444', 'author': 'author3', 'genre': 'genre2'}\n"
     ]
    }
   ],
   "source": [
    "for book in books:\n",
    "    print(book)"
   ]
  },
  {
   "cell_type": "markdown",
   "id": "14c3ffcf",
   "metadata": {},
   "source": [
    "#### Prompt the user to enter a genre, then loop through your books list and print out the titles of all the books in that genre."
   ]
  },
  {
   "cell_type": "code",
   "execution_count": 62,
   "id": "02c360d1",
   "metadata": {},
   "outputs": [
    {
     "name": "stdout",
     "output_type": "stream",
     "text": [
      "Enter a genre: \n"
     ]
    }
   ],
   "source": [
    "user_genre = input('Enter a genre: ')"
   ]
  },
  {
   "cell_type": "code",
   "execution_count": 63,
   "id": "6a354535",
   "metadata": {},
   "outputs": [],
   "source": [
    "for book in books:\n",
    "    if book['genre'] == user_genre:\n",
    "        book['title']"
   ]
  },
  {
   "cell_type": "code",
   "execution_count": 64,
   "id": "e323b4b9",
   "metadata": {},
   "outputs": [
    {
     "data": {
      "text/plain": [
       "[{'title': 'title111', 'author': 'author1', 'genre': 'genre1'},\n",
       " {'title': 'title222', 'author': 'author1', 'genre': 'genre2'},\n",
       " {'title': 'title333', 'author': 'author2', 'genre': 'genre2'},\n",
       " {'title': 'title444', 'author': 'author3', 'genre': 'genre2'}]"
      ]
     },
     "execution_count": 64,
     "metadata": {},
     "output_type": "execute_result"
    }
   ],
   "source": [
    "books"
   ]
  },
  {
   "cell_type": "code",
   "execution_count": null,
   "id": "e85bc35e",
   "metadata": {},
   "outputs": [],
   "source": []
  }
 ],
 "metadata": {
  "kernelspec": {
   "display_name": "Python 3 (ipykernel)",
   "language": "python",
   "name": "python3"
  },
  "language_info": {
   "codemirror_mode": {
    "name": "ipython",
    "version": 3
   },
   "file_extension": ".py",
   "mimetype": "text/x-python",
   "name": "python",
   "nbconvert_exporter": "python",
   "pygments_lexer": "ipython3",
   "version": "3.9.12"
  }
 },
 "nbformat": 4,
 "nbformat_minor": 5
}
