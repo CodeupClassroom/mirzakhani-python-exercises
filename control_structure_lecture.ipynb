{
 "cells": [
  {
   "cell_type": "code",
   "execution_count": 1,
   "id": "e0ce41cc",
   "metadata": {},
   "outputs": [
    {
     "data": {
      "text/plain": [
       "True"
      ]
     },
     "execution_count": 1,
     "metadata": {},
     "output_type": "execute_result"
    }
   ],
   "source": [
    "is_class_full = True\n",
    "schedule_conflict = False\n",
    "\n",
    "is_class_full or schedule_conflict"
   ]
  },
  {
   "cell_type": "code",
   "execution_count": 2,
   "id": "e4e7a2eb",
   "metadata": {},
   "outputs": [
    {
     "data": {
      "text/plain": [
       "True"
      ]
     },
     "execution_count": 2,
     "metadata": {},
     "output_type": "execute_result"
    }
   ],
   "source": [
    "number_of_items_purchased_month = 10\n",
    "years_as_customer = 5\n",
    "\n",
    "number_of_items_purchased_month > 4 and years_as_customer > 3"
   ]
  },
  {
   "cell_type": "markdown",
   "id": "91543968",
   "metadata": {},
   "source": [
    "## If"
   ]
  },
  {
   "cell_type": "code",
   "execution_count": 3,
   "id": "a8c1e17c",
   "metadata": {},
   "outputs": [
    {
     "name": "stdout",
     "output_type": "stream",
     "text": [
      "COFFEE IS AMAZING!\n",
      "I NEED MORE!\n"
     ]
    }
   ],
   "source": [
    "i_like_coffee = True\n",
    "\n",
    "if i_like_coffee:\n",
    "    print('COFFEE IS AMAZING!')\n",
    "    print('I NEED MORE!')"
   ]
  },
  {
   "cell_type": "code",
   "execution_count": 4,
   "id": "e8f42932",
   "metadata": {},
   "outputs": [
    {
     "name": "stdout",
     "output_type": "stream",
     "text": [
      "Valued Customer\n"
     ]
    }
   ],
   "source": [
    "number_of_items_purchased_month = 10\n",
    "years_as_customer = 5\n",
    "\n",
    "if number_of_items_purchased_month > 4 and years_as_customer > 3:\n",
    "    print('Valued Customer')"
   ]
  },
  {
   "cell_type": "markdown",
   "id": "274817aa",
   "metadata": {},
   "source": [
    "## Else"
   ]
  },
  {
   "cell_type": "code",
   "execution_count": 5,
   "id": "81259030",
   "metadata": {},
   "outputs": [
    {
     "name": "stdout",
     "output_type": "stream",
     "text": [
      "Target Customer\n"
     ]
    }
   ],
   "source": [
    "number_of_items_purchased_month = 2\n",
    "years_as_customer = 10\n",
    "\n",
    "if number_of_items_purchased_month > 4 and years_as_customer > 3:\n",
    "    print('Valued Customer')\n",
    "else:\n",
    "    print('Target Customer')"
   ]
  },
  {
   "cell_type": "markdown",
   "id": "74b8649f",
   "metadata": {},
   "source": [
    "## Elif"
   ]
  },
  {
   "cell_type": "code",
   "execution_count": 6,
   "id": "fb841326",
   "metadata": {},
   "outputs": [
    {
     "name": "stdout",
     "output_type": "stream",
     "text": [
      "Medium Term Customer\n"
     ]
    }
   ],
   "source": [
    "number_of_items_purchased_month = 2\n",
    "years_as_customer = 10\n",
    "\n",
    "if number_of_items_purchased_month > 4:\n",
    "    print('High Volume Customer')\n",
    "elif years_as_customer > 2:\n",
    "    print('Medium Term Customer')\n",
    "elif years_as_customer > 5:\n",
    "    print('Long Term Customer')\n",
    "else:\n",
    "    print('Target Customer')"
   ]
  },
  {
   "cell_type": "code",
   "execution_count": 7,
   "id": "4553b8db",
   "metadata": {},
   "outputs": [
    {
     "name": "stdout",
     "output_type": "stream",
     "text": [
      "Long Term Customer\n"
     ]
    }
   ],
   "source": [
    "number_of_items_purchased_month = 2\n",
    "years_as_customer = 10\n",
    "\n",
    "if number_of_items_purchased_month > 4:\n",
    "    print('High Volume Customer')\n",
    "elif years_as_customer > 2 and years_as_customer < 5:\n",
    "    print('Medium Term Customer')\n",
    "elif years_as_customer >= 5:\n",
    "    print('Long Term Customer')\n",
    "else:\n",
    "    print('Target Customer')"
   ]
  },
  {
   "cell_type": "markdown",
   "id": "88117f94",
   "metadata": {},
   "source": [
    "### Careful of stacking ifs"
   ]
  },
  {
   "cell_type": "code",
   "execution_count": 8,
   "id": "da3e1ae1",
   "metadata": {},
   "outputs": [
    {
     "name": "stdout",
     "output_type": "stream",
     "text": [
      "Long Term Customer\n",
      "Medium Term Customer\n"
     ]
    }
   ],
   "source": [
    "number_of_items_purchased_month = 2\n",
    "years_as_customer = 6\n",
    "\n",
    "if number_of_items_purchased_month > 4:\n",
    "    \n",
    "    print('High Volume Customer')\n",
    "    \n",
    "elif years_as_customer > 2:\n",
    "    \n",
    "    if years_as_customer > 5:\n",
    "        \n",
    "        print('Long Term Customer')\n",
    "        \n",
    "    print('Medium Term Customer')\n",
    "    \n",
    "else:\n",
    "    \n",
    "    print('Target Customer')"
   ]
  },
  {
   "cell_type": "markdown",
   "id": "915866e3",
   "metadata": {},
   "source": [
    "## For Loops"
   ]
  },
  {
   "cell_type": "code",
   "execution_count": 9,
   "id": "3b6ff269",
   "metadata": {},
   "outputs": [
    {
     "name": "stdout",
     "output_type": "stream",
     "text": [
      "0\n",
      "1\n",
      "2\n",
      "3\n",
      "4\n",
      "5\n",
      "6\n",
      "7\n",
      "8\n",
      "9\n"
     ]
    }
   ],
   "source": [
    "for number in range(10):\n",
    "    print(number)"
   ]
  },
  {
   "cell_type": "code",
   "execution_count": 10,
   "id": "3034a105",
   "metadata": {},
   "outputs": [
    {
     "data": {
      "text/plain": [
       "'H'"
      ]
     },
     "execution_count": 10,
     "metadata": {},
     "output_type": "execute_result"
    }
   ],
   "source": [
    "hello = 'Hello'\n",
    "hello[0]"
   ]
  },
  {
   "cell_type": "code",
   "execution_count": 11,
   "id": "3d6269dd",
   "metadata": {},
   "outputs": [
    {
     "data": {
      "text/plain": [
       "'llo'"
      ]
     },
     "execution_count": 11,
     "metadata": {},
     "output_type": "execute_result"
    }
   ],
   "source": [
    "hello[2:]"
   ]
  },
  {
   "cell_type": "code",
   "execution_count": 12,
   "id": "beb99962",
   "metadata": {},
   "outputs": [
    {
     "name": "stdout",
     "output_type": "stream",
     "text": [
      "H\n",
      "e\n",
      "l\n",
      "l\n",
      "o\n"
     ]
    }
   ],
   "source": [
    "for letter in 'Hello':\n",
    "    print(letter)"
   ]
  },
  {
   "cell_type": "code",
   "execution_count": 13,
   "id": "c2535ca0",
   "metadata": {},
   "outputs": [
    {
     "name": "stdout",
     "output_type": "stream",
     "text": [
      "Hello Rae!\n",
      "Hello Cristina!\n",
      "Hello Yvette!\n"
     ]
    }
   ],
   "source": [
    "students = ['Rae', 'Cristina', 'Yvette']\n",
    "\n",
    "for student in students:\n",
    "    print(f'Hello {student}!')"
   ]
  },
  {
   "cell_type": "code",
   "execution_count": 14,
   "id": "3570ce4c",
   "metadata": {},
   "outputs": [
    {
     "name": "stdout",
     "output_type": "stream",
     "text": [
      "R is a good programming language.\n",
      "Python is my favorite!\n",
      "Java is a good programming language.\n",
      "Javascript is a good programming language.\n"
     ]
    }
   ],
   "source": [
    "programming_languages = ['R', 'Python', 'Java', 'Javascript']\n",
    "\n",
    "for language in programming_languages:\n",
    "    if language == 'Python':\n",
    "        print(f'{language} is my favorite!')\n",
    "    else:\n",
    "        print(f'{language} is a good programming language.')"
   ]
  },
  {
   "cell_type": "code",
   "execution_count": 15,
   "id": "6bd59729",
   "metadata": {},
   "outputs": [
    {
     "name": "stdout",
     "output_type": "stream",
     "text": [
      "R is a good programming language.\n",
      "Python is my favorite!\n",
      "Java is a good programming language.\n",
      "Javascript is a good programming language.\n"
     ]
    }
   ],
   "source": [
    "programming_languages = ['R', 'Python', 'Java', 'Javascript']\n",
    "\n",
    "for language in programming_languages:\n",
    "    if language == 'Python':\n",
    "        print(f'{language} is my favorite!')\n",
    "    else:\n",
    "        print(f'{language} is a good programming language.')"
   ]
  },
  {
   "cell_type": "markdown",
   "id": "0237e3c5",
   "metadata": {},
   "source": [
    "## While"
   ]
  },
  {
   "cell_type": "code",
   "execution_count": 16,
   "id": "ecd11e09",
   "metadata": {},
   "outputs": [],
   "source": [
    "number = 5\n",
    "\n",
    "while number <= 4:\n",
    "    print(number)\n",
    "    number += 1"
   ]
  },
  {
   "cell_type": "code",
   "execution_count": 17,
   "id": "ba3a5c0b",
   "metadata": {},
   "outputs": [
    {
     "name": "stdout",
     "output_type": "stream",
     "text": [
      "10\n",
      "9\n",
      "8\n",
      "7\n",
      "6\n",
      "5\n",
      "4\n",
      "3\n",
      "2\n"
     ]
    }
   ],
   "source": [
    "greater_than_1 = True\n",
    "\n",
    "number = 10\n",
    "\n",
    "while greater_than_1:\n",
    "    print(number)\n",
    "    #shorthand for number = number - 1\n",
    "    number -= 1\n",
    "    greater_than_1 = number > 1"
   ]
  },
  {
   "cell_type": "markdown",
   "id": "f64abf73",
   "metadata": {},
   "source": [
    "### This is an infinite loop:"
   ]
  },
  {
   "cell_type": "code",
   "execution_count": 18,
   "id": "021129ec",
   "metadata": {},
   "outputs": [],
   "source": [
    "# while True:\n",
    "#     print('Infinity')"
   ]
  },
  {
   "cell_type": "code",
   "execution_count": 19,
   "id": "e17b7e92",
   "metadata": {},
   "outputs": [
    {
     "data": {
      "text/plain": [
       "4"
      ]
     },
     "execution_count": 19,
     "metadata": {},
     "output_type": "execute_result"
    }
   ],
   "source": [
    "number = 2\n",
    "\n",
    "number *= 2\n",
    "\n",
    "number"
   ]
  },
  {
   "cell_type": "code",
   "execution_count": 20,
   "id": "787e2f58",
   "metadata": {},
   "outputs": [
    {
     "data": {
      "text/plain": [
       "2.0"
      ]
     },
     "execution_count": 20,
     "metadata": {},
     "output_type": "execute_result"
    }
   ],
   "source": [
    "number = 4\n",
    "\n",
    "number /= 2\n",
    "\n",
    "number"
   ]
  },
  {
   "cell_type": "code",
   "execution_count": 21,
   "id": "53fc67a0",
   "metadata": {},
   "outputs": [
    {
     "data": {
      "text/plain": [
       "2"
      ]
     },
     "execution_count": 21,
     "metadata": {},
     "output_type": "execute_result"
    }
   ],
   "source": [
    "number = 4\n",
    "\n",
    "number //= 2\n",
    "\n",
    "number"
   ]
  },
  {
   "cell_type": "markdown",
   "id": "7cb76734",
   "metadata": {},
   "source": [
    "## Break and Continue"
   ]
  },
  {
   "cell_type": "code",
   "execution_count": 22,
   "id": "ec1edccc",
   "metadata": {},
   "outputs": [
    {
     "name": "stdout",
     "output_type": "stream",
     "text": [
      "0\n",
      "1\n",
      "2\n",
      "3\n",
      "4\n",
      "5\n",
      "6\n",
      "7\n",
      "8\n",
      "9\n",
      "10\n"
     ]
    }
   ],
   "source": [
    "for number in range(1000000000000000000000):\n",
    "    if number > 10:\n",
    "        break\n",
    "    \n",
    "    print(number)\n",
    "    "
   ]
  },
  {
   "cell_type": "code",
   "execution_count": 23,
   "id": "53eb465f",
   "metadata": {},
   "outputs": [
    {
     "name": "stdout",
     "output_type": "stream",
     "text": [
      "Here is an odd number: 1\n",
      "Here is an odd number: 3\n",
      "Here is an odd number: 5\n",
      "Here is an odd number: 7\n",
      "Here is an odd number: 9\n"
     ]
    }
   ],
   "source": [
    "for number in range(10):\n",
    "    if number % 2 == 0:\n",
    "        continue\n",
    "    print(f'Here is an odd number: {number}')"
   ]
  },
  {
   "cell_type": "code",
   "execution_count": 24,
   "id": "e5ae0a4a",
   "metadata": {},
   "outputs": [
    {
     "name": "stdout",
     "output_type": "stream",
     "text": [
      "Here is an odd number: 1\n",
      "Here is an odd number: 3\n",
      "Here is an odd number: 5\n",
      "Here is an odd number: 7\n",
      "Here is an odd number: 9\n"
     ]
    }
   ],
   "source": [
    "number = 1\n",
    "\n",
    "while number < 10:\n",
    "    if number % 2 == 0:\n",
    "        number += 1\n",
    "        continue\n",
    "    print(f'Here is an odd number: {number}')\n",
    "    number += 1"
   ]
  }
 ],
 "metadata": {
  "kernelspec": {
   "display_name": "Python 3 (ipykernel)",
   "language": "python",
   "name": "python3"
  },
  "language_info": {
   "codemirror_mode": {
    "name": "ipython",
    "version": 3
   },
   "file_extension": ".py",
   "mimetype": "text/x-python",
   "name": "python",
   "nbconvert_exporter": "python",
   "pygments_lexer": "ipython3",
   "version": "3.9.12"
  }
 },
 "nbformat": 4,
 "nbformat_minor": 5
}
